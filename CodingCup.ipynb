{
 "cells": [
  {
   "cell_type": "code",
   "execution_count": 1,
   "metadata": {},
   "outputs": [
    {
     "data": {
      "text/plain": [
       "'2.0.0-alpha0'"
      ]
     },
     "execution_count": 1,
     "metadata": {},
     "output_type": "execute_result"
    }
   ],
   "source": [
    "import tensorflow as tf\n",
    "tf.__version__"
   ]
  },
  {
   "cell_type": "code",
   "execution_count": 2,
   "metadata": {},
   "outputs": [],
   "source": [
    "import numpy as np\n",
    "from matplotlib import pyplot as plt\n",
    "\n",
    "plt.rcParams['axes.facecolor'] = '#323A48'\n",
    "plt.rcParams['axes.edgecolor'] = '#92A2BD'\n",
    "plt.rcParams['figure.facecolor'] = '#323A48'\n",
    "plt.rcParams['text.color'] = '#DBE1EA'\n",
    "plt.rcParams['xtick.color'] = '#DBE1EA'\n",
    "plt.rcParams['ytick.color'] = '#DBE1EA'\n",
    "plt.rcParams['grid.linestyle'] = ':'\n",
    "plt.rcParams['grid.color'] = '#3F495A'\n",
    "\n",
    "from cycler import cycler\n",
    "plt.rcParams['axes.prop_cycle'] = cycler(color=['c', 'goldenrod', 'mediumseagreen', 'blueviolet', 'indianred', 'mediumpurple', 'cornflowerblue',\n",
    "                                               'darkorchid', 'gold', 'olivedrab'])\n",
    "import time\n",
    "\n",
    "## 24 hour format ##\n",
    "def print_t(str_):\n",
    "  print( \"[\" + time.strftime(\"%Y-%m-%d %H:%M:%S\") + \"] \" + str(str_))\n",
    "  \n",
    "def timestamp():\n",
    "  return time.strftime(\"%y%m%dd%Hh%Mm%S\")"
   ]
  },
  {
   "cell_type": "code",
   "execution_count": 53,
   "metadata": {},
   "outputs": [],
   "source": [
    "import socket\n",
    "import json\n",
    "\n",
    "class CCGame:\n",
    "  def __init__(self):\n",
    "    self.tcp_ip = '31.46.64.35'\n",
    "    self.tcp_port = 12323\n",
    "    self.team_token = '1iVXOVZK7ldH5Kr6qYCEkZE6xpR0SXZJkyfQayrKfJ2e9S8xdeTjsV9oohjePSsUXFOcDnevsu918'\n",
    "    self.buffersize = 1024\n",
    "    self.socket = socket.socket(socket.AF_INET, socket.SOCK_STREAM)\n",
    "    \n",
    "    self.valid_commands = np.array([\"NO_OP\", \"ACCELERATION\", \"DECELERATION\", \"CAR_INDEX_LEFT\", \"CAR_INDEX_RIGHT\", \"CLEAR\", \"FULL_THROTTLE\", \"EMERGENCY_BRAKE\", \"GO_LEFT\", \"GO_RIGHT\"])\n",
    "    \n",
    "    # Build map \n",
    "    mapstr = \"GPSSPGGGGGGGGGGGGGGGGGGGGGGGGGGGGGGGGGGGGGGGGGGGGGGGGGGPSSPGPPSSPPPPPPPPPPPPPPPPPPPPPPPPPPPPPPPPPPPPPPPPPPPPPPPPPPPPSSPPSSSSSSSSSSSSSSSSSSSSSSSSSSSSZSSZSSSSSSSSSSSSSSSSSSSSSSSSSSSSSSSSSSSSSSSSSSSSSSSSSSSSSSSSZSSZSSSSSSSSSSSSSSSSSSSSSSSSSSSSPPSSPPPZZPPPPPPPPPPPPPPPPPPPPSSPPPPPPPPPPPPPPPPPPPPZZPPPSSPPGPSSPGPSSPGBBGBBGGBBGGBBGBBGPSSPGBBGBBGGBBGGBBGBBGPSSPBPSSPGGPSSPBPSSPPPPPPPPPPPPPPPPPPPPSSPPPPPPPPPPPPPPPPPPPPSSPBPSSPGGPSSPBPSSSSSSSSZSSZSSSSSSSSSSSSSSSSSSSSSSSSSSSSSSSSSSPGPSSPGGPSSPBPSSSSSSSSZSSZSSSSSSSSSSSSSSSSSSSSSSSSSSSSSSSSSSPBPSSPGGPSSPBPSSPPPPPPPSSPPPPPPPPPPPPPPPPPPPPPPPPPPPPPPPPPSSPBPSSPGGPSSPGPSSSPPGBBPSSPGGGGGBBBBBGPPPPPPPPGGBBBBBBGBBPSSSPGPSSPGGPSSPBPSSSSPPGBPSSPGTGPPPPPPPPPSSSSSSPPPBBBBBBGBBPSGSPBPSSPGGPSSPBPPSSSSPPGPSSPGGGPSSSSSSSSSSSSSSSSPPPGGGPPPPPSGSPBPSSPGGPSSPGGPPSSSSPPPSSPPBBPSSSSSSSSSSPPSSSSSSPPPGPSSSSSGSPGPSSPGGPSSPGGGPPSSSSPSSSSPPPPSSPSSPPSSPPPPPSSSSSSPPPSSSSSSSPGPSSPGGPSSPGGGGPPSSSSSBBSSSSSSSSSSPPSSSSSSPPPSSSSSSZSSPPPPPPGPSSPGGPSSPGGGGGPPSSSSBBSSSSSSSSSSPPSPPPPSSSPPPSSSSZSSPPSSPGGPSSPGGPSSPGGGGGGPPPPSSSSPPPPPPPPPPPSPPSSSSSSPPPPPPPSSPPSSPTTPSSPGGPSSPGGGGGGGGGPPSSPPSSSSSSSSGPSSSSPPSSSSPPGTGPSSSSSSPTGPSSPGGPSSPGGGGGGBBBGPSSSSSSSSSSSSSPPPPPPPPSSSSPPGPPSSSSSSPTTPSSPGGPSSPGGGGGGBBBGPSSSSSSPPPPSSSSSSSSSSPPSSSSPPPSSSPPPPPTTPSSPGGPSSPGGGGGGBBBGPSSPPPPPGGPPSSSSSSSSSSPPSSSSPSSSSPBBBBTGPSSPGGPSSPGPPPPPPPPPPSSPGGGGGGGPPPPPPPPSSSSPPSSSSSSSPPBBBBBGPSSPGGPSSPGPSSSSSSSSSSSPGGGGGGGGGGGBBGPPSSSSPPSSSSSPPGGGGGGGPSSPGGPSSPGPSSSSSSSSSSSPGGGGBGGGGGGBBGGPPSSSSPPPPSSSPPPPPPGTPSSPGGPSSPGPSSPPPPPPPSSPGGGGGGGGGGGGGGGGPPSSSSSSPSSSSSSSSPGTPSSPGGPSSPGPSSPBGBBBPSSPGGGGGGGGGGPPPPGGGPPSSSSSPPSSSSSSSPGTPSSPGGPSSPGPSSPBGBBBPSSPGGGGGGGGGPPSSPPGGGPPPPPPPPPPPPPZZPPGPSSPGGPZZPPPZZPPPPPPPSSPPPPPPPPPPPSSSSPPPPPPPPPPPPPPPPSSSSPPPZZPGGPSSSSSSSSSSSSSSSSSSSSSSSSSSSSBBSSSSSSSSSSSSSSSSSSBBSSSSSSPGGPSSSSSSSSSSSSSSSSSSSSSSSSSSSSBBSSSSSSSSSSSSSSSSSSBBSSSSSSPGGPZZPPPPPPPPPPPPPPPPSSPPPPPPPSSSSPPPPPPPSSPPPPPPPSSSSPPPZZPGGPSSPGPSSSSPPBBBBPPSSSPGGPPPPPSSPPPPPGGPSSSPPGBBPPSSPPGPSSPGGPSSPBPSSSSSPBBBBPSSSSPBBPSSSSSSSSSSPGGPSSSSPGBBGPSSPGBPSSPGGPSSPBPPPSSSPGGGGPSSSPPGGPSSSSSSSSSSPGGPPSSSPGGGGPSSPGBPSSPGGPSSPGGGPPSSPGGGGPSSPPGGGPSSPPPPPPSSPGGGPPSSPGGGGPSSPGBPSSPGGPSSPGGBBPSSPGGGGPSSPGGGBPSSPGGGGPSSPGGGGPSSPGGGGPSSPGBPSSPGGPSSPGGBBPSSPGGGGPSSPGBBBPSSPGGGGPSSPGGGGPSSPGGGGPSSPGBPSSPGGPSSPGPPPPSSPPPPPPZZPPPPPPZZPPPPPPSSPPPPPPZZPPPPPPZZPPGPSSPGGPSSPBPSSSSSSSSSSSSSSSSSSSSSSSSSSSSSSSSSSZSSZSSSSSSSSPBPSSPGGPSSPBPSSSSSSSSSSSSSSSSSSSSSSSSSSSSSSSSSSZSSZSSSSSSSSPBPSSPGGPSSPGPSSPPPPPSSPPPPPPPPPPPPZZPPPPPZZPPPPPSSPPPPPSSPPPBPSSPGGPSSPBPSSPGGGPSSPGGGGGGGBBBPSSPGGGPSSPBBGPSSPGBBPSSPBGBPSSPGGPSSPBPSSPGGGPSSPGGGGGGGBBBPSSPGGGPSSPBBGPSSPGBBPSSPBGBPSSPGGPSSPGPSSPPPPPZZPPPPPPPPPPPPSSPPPPPSSPPPPPSSPPPPPSSPPGGPSSPGGPSSPGPSSSSSSZSSZSSSSSSSSSSSSSSSSSSSSSSSSSSSSSSSSSSSPGBPSSPGGPSSPGPSSSSSSZSSZSSSSSSSSSSSSSSSSSSSSSSSSSSSSSSSSSSSPGBPSSPGGPSSPGPPSSPPPPZZPPPPSSPPPPZZPPPPSSPPPPPPPPPPSSPPPPZZPGBPSSPGGPSSPGGPSSPBBPSSPBBPSSPGBPSSPBGPSSPGGGGGGGGPSSPGGPSSPGBPSSPGGPSSPGGPSSPBBPSSPBBPSSPBBPSSPBGPSSPGGGGGGGGPSSPGGPSSPGBPSSPGGPSSPGGPSSPPPPSSPPPPZZPPPPSSPPPPZZPPPPPPPPPPZZPPPPSSPGGPSSPGGPSSPGGPSSSSSSSSSSSSSSSSSSSSSSSSSSSSSSSSSSSSSSSSSSPPPGGPSSPGGPSSPGGPSSSSSSSSSSSSSSSSSSSSSSSSSSSSSSSSSSSSSSSSSSPGGGGPSSPGGPSSPGGPPPPPPPPPPPPPPPPPPPPPPSSPPPPPPPPPPPPPPPPPPPPGGGGPSSPGGPSSPGGGGGGGGGGGGGBBBBGGBBBBPSSPBBBBGGBBBBGGGGGGGGGGGGGPSSPGPPSSPPPPPPPPPPPPPPPPPPPPPPPPPSSPPPPPPPPPPPPPPPPPPPPPPPPPSSPPSSSSZSSSSSSSSSSSSSSSSSSSSSSSSSSSSSSSSSSSSSSSSSSSSSSSSSSZSSSSSSSSZSSSSSSSSSSSSSSSSSSSSSSSSSSSSSSSSSSSSSSSSSSSSSSSSSSZSSSSPPSSPPPPPPPPPPPPPPPPPPPPPPPPPPPPPPPPPPPPPPPPPPPPPPPPPPPPSSPPGPSSPGGGGGGGGGGGGGGGGGGGGGGGGGGGGGGGGGGGGGGGGGGGGGGGGGGPSSPG\"\n",
    "    mapstrToInt = {\n",
    "      'S': 0, # Aszfaltozott út\n",
    "      'Z': 1, # Zebra\n",
    "      'P': 2, # Járda\n",
    "      'G': 3, # fű, zöld terület\n",
    "      'B': 4, # épület\n",
    "      'T': 5  # fa\n",
    "    }\n",
    "    self.mapMatrix = np.array([mapstrToInt[x] for x in list(mapstr)]).reshape(60,60)\n",
    "    \n",
    "    self.started = False\n",
    "    \n",
    "    self.tick_data_prev = None # Previous tick data\n",
    "    self.tick_data = None # Current tick data \n",
    "    \n",
    "    self.game_id = None\n",
    "    self.ticknum = None\n",
    "    self.car_id = None\n",
    "    self.myCar_prev = None # Previous car object\n",
    "    self.myCar = None # Current car object\n",
    "    self.crashed = False\n",
    "    return\n",
    "    \n",
    "  def get_response(self):\n",
    "    if not self.started:\n",
    "      raise RuntimeError(\"Game not started yet.\")\n",
    "    \n",
    "    # Update tick_data and tick_data_prev\n",
    "    if self.tick_data != None:\n",
    "      self.tick_data_prev = self.tick_data\n",
    "    self.tick_data = json.loads(self.socket.recv(self.buffersize).decode())\n",
    "    \n",
    "    if len(self.tick_data['messages']) > 0:\n",
    "      if 'END REASON: CRASHED' in self.tick_data['messages']:\n",
    "        self.crashed = True\n",
    "        self.close()\n",
    "        print_t('CAR CRASHED.')\n",
    "      else:\n",
    "        raise ValueError(\"Messages array is not empty:\\n {}\".format(self.tick_data['messages']))\n",
    "    \n",
    "    \n",
    "    # Update myCar and myCar_prev\n",
    "    if self.myCar != None:\n",
    "      self.myCar_prev = self.myCar\n",
    "      \n",
    "    if len(self.tick_data['cars'])>0 and self.car_id!=None:\n",
    "      self.myCar = [c for c in self.tick_data['cars'] if c['id']==self.car_id][0]\n",
    "      \n",
    "    self.game_id = self.tick_data['request_id']['game_id']\n",
    "    self.ticknum = self.tick_data['request_id']['tick']\n",
    "    self.car_id = self.tick_data['request_id']['car_id']\n",
    "    return\n",
    "    \n",
    "    \n",
    "#     if self.myCar != None:\n",
    "#       self.last_life = self.myCar['life']\n",
    "#       self.last_transported = self.myCar['transported']\n",
    "#       if 'passenger_id' in self.myCar:\n",
    "#         self.last_passenger_id=self.myCar['passenger_id']\n",
    "#     return\n",
    "  \n",
    "  def start(self):\n",
    "    if self.started == True:\n",
    "      raise RuntimeError(\"Game already started.\")\n",
    "      \n",
    "    self.socket.connect((self.tcp_ip, self.tcp_port))\n",
    "    self.started = True\n",
    "    \n",
    "    # Send first messsage\n",
    "    first_message = {\n",
    "      \"token\": self.team_token\n",
    "    }\n",
    "    first_message = json.dumps(first_message).encode()\n",
    "    \n",
    "    self.socket.send(first_message)\n",
    "    self.get_response()\n",
    "    return\n",
    "    \n",
    "  def close(self):\n",
    "    if self.started == False:\n",
    "      print_t(\"Game already closed.\")\n",
    "    self.socket.close()\n",
    "    self.started = False\n",
    "    return\n",
    "  \n",
    "  def draw_map(self):\n",
    "    plt.figure(figsize=(8,8), dpi=112)\n",
    "    plt.imshow(g.mapMatrix)\n",
    "    return\n",
    "  \n",
    "  def send_random_command(self):\n",
    "    if self.started == False;\n",
    "    msg = {\"response_id\":\n",
    "           {\"game_id\": self.game_id, \"tick\": self.ticknum, \"car_id\": self.car_id},\n",
    "           \"command\": np.random.choice(self.valid_commands)\n",
    "          }\n",
    "    self.socket.send(json.dumps(msg).encode())\n",
    "    self.get_response()\n",
    "    return\n",
    "    \n",
    "  def send_command(self, command):\n",
    "    msg = {\"response_id\":\n",
    "           {\"game_id\": self.game_id, \"tick\": self.ticknum, \"car_id\": self.car_id},\n",
    "           \"command\": command\n",
    "          }\n",
    "    self.socket.send(json.dumps(msg).encode())\n",
    "    self.get_response()\n",
    "    return"
   ]
  },
  {
   "cell_type": "code",
   "execution_count": 54,
   "metadata": {},
   "outputs": [],
   "source": [
    "\"\"\"\n",
    "  Implement a class that rewards the DQN agent\n",
    "\"\"\"\n",
    "class Rewarder:\n",
    "  def __init__():\n",
    "    pass\n",
    "  \n",
    "  def calculate_reward(self, game):\n",
    "    rew = 0\n",
    "    if game.myCar != None and game.myCar_prev != None:\n",
    "      lifeDiff = game.myCar_prev['life'] - game.myCar['life']\n",
    "      rew = rew-lifeDiff\n",
    "      \n",
    "      transportedDiff = game.myCar['transported'] - game.myCar_prev['transported'] \n",
    "      rew = rew + 200*transportedDiff\n",
    "      \n",
    "      if ('passenger_id' in game.myCar) and not ('passenger_id' in game.myCar_prev):\n",
    "        rew = rew + 100\n",
    "    return rew"
   ]
  },
  {
   "cell_type": "code",
   "execution_count": 55,
   "metadata": {},
   "outputs": [],
   "source": [
    "\"\"\"\n",
    "  Implement a class that can generate a state-space for the DQN based on tick data from server\n",
    "\"\"\"\n",
    "class StateSpace:\n",
    "  def __init__(self):\n",
    "    self.viewArea = [\n",
    "    \"         \",\n",
    "    \"   XXX   \",\n",
    "    \"   XXX   \",\n",
    "    \"   XXX   \",\n",
    "    \"   XXX   \",\n",
    "    \"  XXXXX  \",\n",
    "    \" XXXXXXX \",\n",
    "    \" XXXXXXX \",\n",
    "    \" XXXCXXX \",\n",
    "    \"  XXXXX  \",\n",
    "    \"   XXX   \",\n",
    "    \"    X    \",\n",
    "    \"         \"]\n",
    "    \n",
    "    \"\"\" THIS FUNCTION IS TESTED \"\"\"\n",
    "    def _viewCoordsFromViewArea():\n",
    "      carCoords = None\n",
    "      seenCoords = []\n",
    "      for y in range(len(self.viewArea)):\n",
    "        line = list(self.viewArea[y])\n",
    "        for x in range(len(line)):\n",
    "          if line[x]=='C':\n",
    "            carCoords = np.array([x,y])\n",
    "          if line[x]=='X':\n",
    "            seenCoords.append([x,y])\n",
    "      return np.array([[c[0] - carCoords[0], c[1]-carCoords[1]] for c in seenCoords])\n",
    "    \n",
    "    self.viewAreaCoords = _viewCoordsFromViewArea()\n",
    "    self.directionCodes = {\n",
    "      # 0 is for no car\n",
    "      'UP': 1,\n",
    "      'DOWN': 2,\n",
    "      'LEFT': 3,\n",
    "      'RIGHT': 4\n",
    "    }\n",
    "    self.myCar = None\n",
    "    pass\n",
    "  \n",
    "  \"\"\"\n",
    "    Get the coordinates of seen points relative to the car coordinates\n",
    "    THIS FUNCTION IS TESTED\n",
    "  \"\"\"\n",
    "  def relativeViewCoordsForDirection(self, d):\n",
    "    def rmatrix(phi):\n",
    "      return np.array([[np.cos(phi), -np.sin(phi)], [np.sin(phi), np.cos(phi)]])\n",
    "    \n",
    "    def dotnround(M, x):\n",
    "      return np.round(M.dot(x)).astype(int)\n",
    "    \n",
    "    \n",
    "    if d == 'UP':\n",
    "      return self.viewAreaCoords\n",
    "    elif d == 'DOWN':\n",
    "      rotated = []\n",
    "      R = rmatrix(np.pi)\n",
    "      for c in self.viewAreaCoords:\n",
    "        rotated.append(dotnround(R, c))\n",
    "      return np.array(rotated)\n",
    "    elif d == 'LEFT':\n",
    "      rotated = []\n",
    "      R = rmatrix(-np.pi/2.0)\n",
    "      for c in self.viewAreaCoords:\n",
    "        rotated.append(dotnround(R, c))\n",
    "      return np.array(rotated)\n",
    "    elif d == 'RIGHT':\n",
    "      rotated = []\n",
    "      R = rmatrix(np.pi/2.0)\n",
    "      for c in self.viewAreaCoords:\n",
    "        rotated.append(dotnround(R, c))\n",
    "      return np.array(rotated)\n",
    "    else: \n",
    "      raise ValueError(\"Invalid direction: \"+d)\n",
    "  \n",
    "  \"\"\"\n",
    "    Build the state of the system, based on the current tick stored in game\n",
    "  \"\"\"\n",
    "  def stateFromTick(self, game):\n",
    "    if len(game.tick_data['cars'])>0:\n",
    "      self.myCar = [c for c in game.tick_data['cars'] if c['id']==game.car_id][0]\n",
    "    else:\n",
    "      raise RuntimeError(\"Could not find my car.\")\n",
    "    \n",
    "    print_t(\"My car is {}\".format(self.myCar))\n",
    "    \n",
    "    # This is the state of the system that should be returned\n",
    "    self.state = []\n",
    "    \n",
    "    # Check if the point is off the map\n",
    "    def isOffMap(point):\n",
    "      if point[0]<0 or point[0]>=60 or point[1]<0 or point[1]>=60:\n",
    "        return True\n",
    "      return False\n",
    "    \n",
    "    # Check if a car is on the point\n",
    "    def carOnPoint(point):\n",
    "      if len(game.tick_data['cars'])>=2:\n",
    "        for car in game.tick_data['cars']:\n",
    "          if car['pos']['x'] == point[0] and car['pos']['y'] == point[1]:\n",
    "            return {\"status\": True, \"car\": car}\n",
    "        return {\"status\": False, \"car\": None}\n",
    "      return {\"status\": False, \"car\": None}\n",
    "    \n",
    "    # Check if a pedestrian is on the point\n",
    "    def pedestrianOnPoint(point):\n",
    "      if len(game.tick_data['pedestrians'])>=2:\n",
    "        for ped in game.tick_data['pedestrians']:\n",
    "          if ped['pos']['x'] == point[0] and ped['pos']['y'] == point[1]:\n",
    "            return {\"status\": True, \"ped\": ped}\n",
    "        return {\"status\": False, \"ped\": None}\n",
    "      return {\"status\": False, \"ped\": None}\n",
    "    \n",
    "    # Check if a passenger is on the point\n",
    "    def passengerOnPoint(point):\n",
    "      if len(game.tick_data['passengers'])>=2:\n",
    "        for pas in game.tick_data['passengers']:\n",
    "          if pas['pos']['x'] == point[0] and pas['pos']['y'] == point[1]:\n",
    "            return {\"status\": True, \"pas\": pas}\n",
    "        return {\"status\": False, \"pas\": None}\n",
    "      return {\"status\": False, \"pas\": None}\n",
    "    \n",
    "    # Iterate over all points seen by car\n",
    "    relSeenCoords = self.relativeViewCoordsForDirection(self.myCar['direction'])\n",
    "    for k in range(len(relSeenCoords)):\n",
    "      mapPoint = [relSeenCoords[k][0]+self.myCar['pos']['x'],\n",
    "                  relSeenCoords[k][1]+self.myCar['pos']['y']]\n",
    "      \n",
    "      if isOffMap(mapPoint):\n",
    "        n_feat=11 # number of features in each point is 11\n",
    "        self.state.append([-1 for k in range(n_feat)])\n",
    "        continue\n",
    "        \n",
    "      car = carOnPoint(mapPoint)\n",
    "      carDir = 0 if car['status']==False else self.directionCodes[car['car']['direction']]\n",
    "      carSpeed = -1 if car['status']==False else car['car']['speed']\n",
    "      \n",
    "      ped = pedestrianOnPoint(mapPoint)\n",
    "      pedDir = 0 if ped['status']==False else self.directionCodes[ped['ped']['direction']]\n",
    "      pedSpeed = -1 if ped['status']==False else ped['ped']['speed']\n",
    "      \n",
    "      pas = passengerOnPoint(mapPoint)\n",
    "      pasId = -1 if pas['status']==False else pas['pas']['id']\n",
    "      pasDestX = -1 if pas['status']==False else pas['pas']['dest_pos']['x']\n",
    "      pasDestY = -1 if pas['status']==False else pas['pas']['dest_pos']['y']\n",
    "      pasIsInMyCar = -1 if pas['status']==False else int(self.myCar['id']==pas['pas']['car_id'])\n",
    "      \n",
    "      stateOfPoint = [\n",
    "        game.mapMatrix[mapPoint[0]][mapPoint[1]], # What is the color of this point\n",
    "        int(car['status']), # Is there any car on this point?\n",
    "        carDir,\n",
    "        carSpeed,\n",
    "        int(ped['status']),\n",
    "        pedDir,\n",
    "        pedSpeed,\n",
    "        int(pas['status']),\n",
    "        pasDestX/60.0, # these should be normalized to 1 for NN\n",
    "        pasDestY/60.0, # these should be normalized to 1 for NN\n",
    "        pasIsInMyCar\n",
    "      ] \n",
    "      \n",
    "      self.state.append(np.array(stateOfPoint))\n",
    "      \n",
    "    self.state=np.array(self.state).flatten()\n",
    "    self.state=np.append(self.state, np.array([\n",
    "      self.myCar['pos']['x']/60.0, # these should be normalized to 1 for NN\n",
    "      self.myCar['pos']['y']/60.0, # these should be normalized to 1 for NN\n",
    "      self.directionCodes[self.myCar['direction']],\n",
    "      self.myCar['speed'],\n",
    "      self.myCar['life']/100.0 # these should be normalized to 1 for NN\n",
    "    ]))\n",
    "    return self.state"
   ]
  },
  {
   "cell_type": "code",
   "execution_count": 56,
   "metadata": {
    "scrolled": true
   },
   "outputs": [
    {
     "name": "stdout",
     "output_type": "stream",
     "text": [
      "[2019-04-09 15:33:24] Game id: 6926\n",
      "[2019-04-09 15:33:24] Tick data: \n",
      "{'cars': [{'life': 100, 'transported': 0, 'speed': 0, 'direction': 'LEFT', 'command': '0', 'id': 0, 'pos': {'x': 43, 'y': 56}}], 'passengers': [{'dest_pos': {'x': 44, 'y': 55}, 'id': 16, 'pos': {'x': 55, 'y': 14}}, {'dest_pos': {'x': 48, 'y': 1}, 'id': 17, 'pos': {'x': 18, 'y': 1}}, {'dest_pos': {'x': 42, 'y': 55}, 'id': 18, 'pos': {'x': 43, 'y': 26}}, {'dest_pos': {'x': 20, 'y': 17}, 'id': 19, 'pos': {'x': 12, 'y': 55}}, {'dest_pos': {'x': 37, 'y': 42}, 'id': 20, 'pos': {'x': 47, 'y': 22}}], 'request_id': {'tick': 0, 'game_id': 6926, 'car_id': 0}, 'pedestrians': [], 'messages': []}\n"
     ]
    }
   ],
   "source": [
    "## Test section\n",
    "g = CCGame()\n",
    "g.start()\n",
    "g.close()\n",
    "\n",
    "print_t(\"Game id: {}\".format(g.game_id))\n",
    "print_t(\"Tick data: \\n{}\".format(g.tick_data))\n",
    "ss = StateSpace()"
   ]
  },
  {
   "cell_type": "code",
   "execution_count": 57,
   "metadata": {
    "scrolled": true
   },
   "outputs": [
    {
     "name": "stdout",
     "output_type": "stream",
     "text": [
      "[2019-04-09 15:33:26] My car is {'life': 100, 'transported': 0, 'speed': 0, 'direction': 'LEFT', 'command': '0', 'id': 0, 'pos': {'x': 43, 'y': 56}}\n"
     ]
    }
   ],
   "source": [
    "state = ss.stateFromTick(g)"
   ]
  },
  {
   "cell_type": "code",
   "execution_count": 58,
   "metadata": {},
   "outputs": [
    {
     "data": {
      "text/plain": [
       "(511,)"
      ]
     },
     "execution_count": 58,
     "metadata": {},
     "output_type": "execute_result"
    }
   ],
   "source": [
    "state.shape"
   ]
  },
  {
   "cell_type": "code",
   "execution_count": 59,
   "metadata": {},
   "outputs": [
    {
     "name": "stdout",
     "output_type": "stream",
     "text": [
      "[2019-04-09 15:33:28] Game already closed.\n"
     ]
    }
   ],
   "source": [
    "g.close()"
   ]
  },
  {
   "cell_type": "code",
   "execution_count": 60,
   "metadata": {},
   "outputs": [
    {
     "name": "stdout",
     "output_type": "stream",
     "text": [
      "[2019-04-09 15:33:30] 0\n",
      "[2019-04-09 15:33:30] 1\n",
      "[2019-04-09 15:33:30] 2\n",
      "[2019-04-09 15:33:30] 3\n",
      "[2019-04-09 15:33:30] 4\n",
      "[2019-04-09 15:33:30] 5\n",
      "[2019-04-09 15:33:30] 6\n",
      "[2019-04-09 15:33:30] 7\n",
      "[2019-04-09 15:33:30] 8\n",
      "[2019-04-09 15:33:30] 9\n",
      "[2019-04-09 15:33:30] 10\n",
      "[2019-04-09 15:33:30] 11\n",
      "[2019-04-09 15:33:30] 12\n",
      "[2019-04-09 15:33:30] 13\n",
      "[2019-04-09 15:33:30] 14\n",
      "[2019-04-09 15:33:30] 15\n",
      "[2019-04-09 15:33:30] 16\n",
      "[2019-04-09 15:33:30] 17\n",
      "[2019-04-09 15:33:30] 18\n",
      "[2019-04-09 15:33:30] 19\n",
      "[2019-04-09 15:33:30] 20\n",
      "[2019-04-09 15:33:30] 21\n",
      "[2019-04-09 15:33:30] 22\n",
      "[2019-04-09 15:33:30] 23\n",
      "[2019-04-09 15:33:30] 24\n",
      "[2019-04-09 15:33:30] 25\n",
      "[2019-04-09 15:33:30] 26\n",
      "[2019-04-09 15:33:30] 27\n",
      "[2019-04-09 15:33:30] 28\n",
      "[2019-04-09 15:33:30] CAR CRASHED.\n",
      "[2019-04-09 15:33:30] 29\n"
     ]
    },
    {
     "ename": "OSError",
     "evalue": "[Errno 9] Bad file descriptor",
     "output_type": "error",
     "traceback": [
      "\u001b[0;31m---------------------------------------------------------------------------\u001b[0m",
      "\u001b[0;31mOSError\u001b[0m                                   Traceback (most recent call last)",
      "\u001b[0;32m<ipython-input-60-5d3452b996ec>\u001b[0m in \u001b[0;36m<module>\u001b[0;34m\u001b[0m\n\u001b[1;32m      2\u001b[0m \u001b[0mg\u001b[0m\u001b[0;34m.\u001b[0m\u001b[0mstart\u001b[0m\u001b[0;34m(\u001b[0m\u001b[0;34m)\u001b[0m\u001b[0;34m\u001b[0m\u001b[0;34m\u001b[0m\u001b[0m\n\u001b[1;32m      3\u001b[0m \u001b[0;32mfor\u001b[0m \u001b[0mj\u001b[0m \u001b[0;32min\u001b[0m \u001b[0mrange\u001b[0m\u001b[0;34m(\u001b[0m\u001b[0;36m1000\u001b[0m\u001b[0;34m)\u001b[0m\u001b[0;34m:\u001b[0m\u001b[0;34m\u001b[0m\u001b[0;34m\u001b[0m\u001b[0m\n\u001b[0;32m----> 4\u001b[0;31m   \u001b[0mg\u001b[0m\u001b[0;34m.\u001b[0m\u001b[0msend_random_command\u001b[0m\u001b[0;34m(\u001b[0m\u001b[0;34m)\u001b[0m\u001b[0;34m\u001b[0m\u001b[0;34m\u001b[0m\u001b[0m\n\u001b[0m\u001b[1;32m      5\u001b[0m   \u001b[0mprint_t\u001b[0m\u001b[0;34m(\u001b[0m\u001b[0mj\u001b[0m\u001b[0;34m)\u001b[0m\u001b[0;34m\u001b[0m\u001b[0;34m\u001b[0m\u001b[0m\n\u001b[1;32m      6\u001b[0m \u001b[0mg\u001b[0m\u001b[0;34m.\u001b[0m\u001b[0mclose\u001b[0m\u001b[0;34m(\u001b[0m\u001b[0;34m)\u001b[0m\u001b[0;34m\u001b[0m\u001b[0;34m\u001b[0m\u001b[0m\n",
      "\u001b[0;32m<ipython-input-53-d1104244201f>\u001b[0m in \u001b[0;36msend_random_command\u001b[0;34m(self)\u001b[0m\n\u001b[1;32m    109\u001b[0m            \u001b[0;34m\"command\"\u001b[0m\u001b[0;34m:\u001b[0m \u001b[0mnp\u001b[0m\u001b[0;34m.\u001b[0m\u001b[0mrandom\u001b[0m\u001b[0;34m.\u001b[0m\u001b[0mchoice\u001b[0m\u001b[0;34m(\u001b[0m\u001b[0mself\u001b[0m\u001b[0;34m.\u001b[0m\u001b[0mvalid_commands\u001b[0m\u001b[0;34m)\u001b[0m\u001b[0;34m\u001b[0m\u001b[0;34m\u001b[0m\u001b[0m\n\u001b[1;32m    110\u001b[0m           }\n\u001b[0;32m--> 111\u001b[0;31m     \u001b[0mself\u001b[0m\u001b[0;34m.\u001b[0m\u001b[0msocket\u001b[0m\u001b[0;34m.\u001b[0m\u001b[0msend\u001b[0m\u001b[0;34m(\u001b[0m\u001b[0mjson\u001b[0m\u001b[0;34m.\u001b[0m\u001b[0mdumps\u001b[0m\u001b[0;34m(\u001b[0m\u001b[0mmsg\u001b[0m\u001b[0;34m)\u001b[0m\u001b[0;34m.\u001b[0m\u001b[0mencode\u001b[0m\u001b[0;34m(\u001b[0m\u001b[0;34m)\u001b[0m\u001b[0;34m)\u001b[0m\u001b[0;34m\u001b[0m\u001b[0;34m\u001b[0m\u001b[0m\n\u001b[0m\u001b[1;32m    112\u001b[0m     \u001b[0mself\u001b[0m\u001b[0;34m.\u001b[0m\u001b[0mget_response\u001b[0m\u001b[0;34m(\u001b[0m\u001b[0;34m)\u001b[0m\u001b[0;34m\u001b[0m\u001b[0;34m\u001b[0m\u001b[0m\n\u001b[1;32m    113\u001b[0m     \u001b[0;32mreturn\u001b[0m\u001b[0;34m\u001b[0m\u001b[0;34m\u001b[0m\u001b[0m\n",
      "\u001b[0;31mOSError\u001b[0m: [Errno 9] Bad file descriptor"
     ]
    }
   ],
   "source": [
    "g = CCGame()\n",
    "g.start()\n",
    "for j in range(1000):\n",
    "  g.send_random_command()\n",
    "  print_t(j)\n",
    "g.close()"
   ]
  },
  {
   "cell_type": "code",
   "execution_count": 61,
   "metadata": {},
   "outputs": [
    {
     "name": "stdout",
     "output_type": "stream",
     "text": [
      "[2019-04-09 15:33:42] Game already closed.\n"
     ]
    }
   ],
   "source": [
    "g.close()"
   ]
  },
  {
   "cell_type": "code",
   "execution_count": 38,
   "metadata": {},
   "outputs": [
    {
     "data": {
      "text/plain": [
       "' TODO: As a baseline project, go to a certain point without dying. Use networkx\\nto find the shortest path to the point.\\n'"
      ]
     },
     "execution_count": 38,
     "metadata": {},
     "output_type": "execute_result"
    }
   ],
   "source": [
    "\"\"\" TODO: As a baseline project, go to a certain point without dying. Use networkx\n",
    "to find the shortest path to the point.\n",
    "\"\"\""
   ]
  },
  {
   "cell_type": "code",
   "execution_count": 39,
   "metadata": {},
   "outputs": [
    {
     "data": {
      "text/plain": [
       "[{'id': 0, 'life': 80}]"
      ]
     },
     "execution_count": 39,
     "metadata": {},
     "output_type": "execute_result"
    }
   ],
   "source": [
    "a=[{\"id\": 2, \"life\": 100}, {\"id\": 0, \"life\":80}]\n",
    "list(filter(lambda x: x[\"id\"]==0, a))"
   ]
  },
  {
   "cell_type": "code",
   "execution_count": 40,
   "metadata": {},
   "outputs": [
    {
     "data": {
      "text/plain": [
       "5"
      ]
     },
     "execution_count": 40,
     "metadata": {},
     "output_type": "execute_result"
    }
   ],
   "source": [
    "len('kutya')"
   ]
  },
  {
   "cell_type": "code",
   "execution_count": 41,
   "metadata": {},
   "outputs": [],
   "source": [
    "jsonstr = '[{\"x\":-1,\"y\":-7},{\"x\":0,\"y\":-7},{\"x\":1,\"y\":-7},{\"x\":-1,\"y\":-6},{\"x\":0,\"y\":-6},{\"x\":1,\"y\":-6},{\"x\":-1,\"y\":-5},{\"x\":0,\"y\":-5},{\"x\":1,\"y\":-5},{\"x\":-1,\"y\":-4},{\"x\":0,\"y\":-4},{\"x\":1,\"y\":-4},{\"x\":-2,\"y\":-3},{\"x\":-1,\"y\":-3},{\"x\":0,\"y\":-3},{\"x\":1,\"y\":-3},{\"x\":2,\"y\":-3},{\"x\":-3,\"y\":-2},{\"x\":-2,\"y\":-2},{\"x\":-1,\"y\":-2},{\"x\":0,\"y\":-2},{\"x\":1,\"y\":-2},{\"x\":2,\"y\":-2},{\"x\":3,\"y\":-2},{\"x\":-3,\"y\":-1},{\"x\":-2,\"y\":-1},{\"x\":-1,\"y\":-1},{\"x\":0,\"y\":-1},{\"x\":1,\"y\":-1},{\"x\":2,\"y\":-1},{\"x\":3,\"y\":-1},{\"x\":-3,\"y\":0},{\"x\":-2,\"y\":0},{\"x\":-1,\"y\":0},{\"x\":1,\"y\":0},{\"x\":2,\"y\":0},{\"x\":3,\"y\":0},{\"x\":-2,\"y\":1},{\"x\":-1,\"y\":1},{\"x\":0,\"y\":1},{\"x\":1,\"y\":1},{\"x\":2,\"y\":1},{\"x\":-1,\"y\":2},{\"x\":0,\"y\":2},{\"x\":1,\"y\":2},{\"x\":0,\"y\":3}]'"
   ]
  },
  {
   "cell_type": "code",
   "execution_count": 42,
   "metadata": {},
   "outputs": [],
   "source": [
    "data = json.loads(jsonstr)"
   ]
  },
  {
   "cell_type": "code",
   "execution_count": 43,
   "metadata": {},
   "outputs": [
    {
     "data": {
      "text/plain": [
       "[True,\n",
       " True,\n",
       " True,\n",
       " True,\n",
       " True,\n",
       " True,\n",
       " True,\n",
       " True,\n",
       " True,\n",
       " True,\n",
       " True,\n",
       " True,\n",
       " True,\n",
       " True,\n",
       " True,\n",
       " True,\n",
       " True,\n",
       " True,\n",
       " True,\n",
       " True,\n",
       " True,\n",
       " True,\n",
       " True,\n",
       " True,\n",
       " True,\n",
       " True,\n",
       " True,\n",
       " True,\n",
       " True,\n",
       " True,\n",
       " True,\n",
       " True,\n",
       " True,\n",
       " True,\n",
       " True,\n",
       " True,\n",
       " True,\n",
       " True,\n",
       " True,\n",
       " True,\n",
       " True,\n",
       " True,\n",
       " True,\n",
       " True,\n",
       " True,\n",
       " True]"
      ]
     },
     "execution_count": 43,
     "metadata": {},
     "output_type": "execute_result"
    }
   ],
   "source": [
    "[data[k]['x'] == ss.viewAreaCoords[k][0] and data[k]['y']==ss.viewAreaCoords[k][1] for k in range(len(ss.viewAreaCoords))]"
   ]
  },
  {
   "cell_type": "code",
   "execution_count": 44,
   "metadata": {},
   "outputs": [
    {
     "data": {
      "text/plain": [
       "array([1, 0])"
      ]
     },
     "execution_count": 44,
     "metadata": {},
     "output_type": "execute_result"
    }
   ],
   "source": [
    "np.round([0.991, 0.0001]).astype(int)"
   ]
  },
  {
   "cell_type": "code",
   "execution_count": null,
   "metadata": {},
   "outputs": [],
   "source": []
  },
  {
   "cell_type": "code",
   "execution_count": 45,
   "metadata": {},
   "outputs": [
    {
     "data": {
      "text/plain": [
       "'UP'"
      ]
     },
     "execution_count": 45,
     "metadata": {},
     "output_type": "execute_result"
    }
   ],
   "source": [
    "#x = {\"status\": False, \"car\": None}\n",
    "x = {\"status\": True, \"car\": {\"direction\": \"UP\"}}\n",
    "\n",
    "0 if x['status']==False else x['car']['direction']"
   ]
  },
  {
   "cell_type": "code",
   "execution_count": 46,
   "metadata": {},
   "outputs": [],
   "source": [
    "o={\"a\": {\"b\": 2}}"
   ]
  },
  {
   "cell_type": "code",
   "execution_count": 47,
   "metadata": {},
   "outputs": [
    {
     "data": {
      "text/plain": [
       "2"
      ]
     },
     "execution_count": 47,
     "metadata": {},
     "output_type": "execute_result"
    }
   ],
   "source": [
    "o[\"a\"][\"b\"]"
   ]
  },
  {
   "cell_type": "code",
   "execution_count": 48,
   "metadata": {},
   "outputs": [],
   "source": [
    "a = {\"p\": 1, \"q\": 3}\n",
    "b = a \n",
    "a = {\"p\":2, \"q\": 2}"
   ]
  },
  {
   "cell_type": "code",
   "execution_count": 49,
   "metadata": {},
   "outputs": [
    {
     "data": {
      "text/plain": [
       "{'p': 1, 'q': 3}"
      ]
     },
     "execution_count": 49,
     "metadata": {},
     "output_type": "execute_result"
    }
   ],
   "source": [
    "b"
   ]
  },
  {
   "cell_type": "code",
   "execution_count": 52,
   "metadata": {},
   "outputs": [
    {
     "data": {
      "text/plain": [
       "'crash'"
      ]
     },
     "execution_count": 52,
     "metadata": {},
     "output_type": "execute_result"
    }
   ],
   "source": [
    "a = ['END REASON: CRASHED', 'jsadkasjdkl']\n",
    "'crash' if 'END REASON: CRASHED' in a else 'no crash'"
   ]
  },
  {
   "cell_type": "code",
   "execution_count": null,
   "metadata": {},
   "outputs": [],
   "source": []
  }
 ],
 "metadata": {
  "kernelspec": {
   "display_name": "Python 3",
   "language": "python",
   "name": "python3"
  },
  "language_info": {
   "codemirror_mode": {
    "name": "ipython",
    "version": 3
   },
   "file_extension": ".py",
   "mimetype": "text/x-python",
   "name": "python",
   "nbconvert_exporter": "python",
   "pygments_lexer": "ipython3",
   "version": "3.6.7"
  }
 },
 "nbformat": 4,
 "nbformat_minor": 2
}
