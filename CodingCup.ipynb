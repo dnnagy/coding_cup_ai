{
 "cells": [
  {
   "cell_type": "code",
   "execution_count": 1,
   "metadata": {},
   "outputs": [],
   "source": [
    "from common_functions import *\n",
    "from game import CCGame\n",
    "from state import StateSpace\n",
    "from rewarder import Rewarder\n",
    "\n",
    "plt.rcParams['axes.facecolor'] = '#323A48'\n",
    "plt.rcParams['axes.edgecolor'] = '#92A2BD'\n",
    "plt.rcParams['figure.facecolor'] = '#323A48'\n",
    "plt.rcParams['text.color'] = '#DBE1EA'\n",
    "plt.rcParams['xtick.color'] = '#DBE1EA'\n",
    "plt.rcParams['ytick.color'] = '#DBE1EA'\n",
    "plt.rcParams['grid.linestyle'] = ':'\n",
    "plt.rcParams['grid.color'] = '#3F495A'\n",
    "\n",
    "from cycler import cycler\n",
    "plt.rcParams['axes.prop_cycle'] = cycler(color=['c', 'goldenrod', 'mediumseagreen', 'blueviolet', 'indianred', 'mediumpurple', 'cornflowerblue',\n",
    "                                               'darkorchid', 'gold', 'olivedrab'])"
   ]
  },
  {
   "cell_type": "code",
   "execution_count": 4,
   "metadata": {
    "scrolled": true
   },
   "outputs": [
    {
     "name": "stdout",
     "output_type": "stream",
     "text": [
      "[2019-04-20 19:26:04] My car is {'life': 100, 'transported': 0, 'speed': 0, 'direction': 'LEFT', 'command': '0', 'id': 0, 'pos': {'x': 49, 'y': 25}}\n",
      "[2019-04-20 19:26:04] Game id: 24313\n",
      "[2019-04-20 19:26:04] command: CAR_INDEX_LEFT\n",
      "[2019-04-20 19:26:04] reward: 0\n"
     ]
    }
   ],
   "source": [
    "## Test section\n",
    "g = CCGame(log_ticks=False)\n",
    "ss = StateSpace()\n",
    "rewarder = Rewarder()\n",
    "g.start()\n",
    "state = ss.stateFromTick(g.car_id, g.tick_data, g.mapMatrix)\n",
    "c=g.send_random_command()\n",
    "reward = rewarder.calculate_reward(g)\n",
    "g.close()\n",
    "\n",
    "print_t(\"Game id: {}\".format(g.game_id))\n",
    "print_t(\"command: {}\".format(c))\n",
    "print_t(\"reward: {}\".format(reward))"
   ]
  },
  {
   "cell_type": "code",
   "execution_count": null,
   "metadata": {},
   "outputs": [],
   "source": [
    "carid = g.car_id\n",
    "carid"
   ]
  },
  {
   "cell_type": "code",
   "execution_count": null,
   "metadata": {
    "scrolled": true
   },
   "outputs": [],
   "source": [
    "import json\n",
    "logdir = '/Users/nagydaniel/Documents/Munka/asseco/coding_cup/logs/'\n",
    "log_9327 = open(logdir + 'log_9327').read()\n",
    "log_9327 = json.loads(log_9327)\n",
    "log_9327[0]"
   ]
  },
  {
   "cell_type": "code",
   "execution_count": null,
   "metadata": {},
   "outputs": [],
   "source": [
    "ss = StateSpace()\n",
    "state = ss.stateFromTick(carid, log_9327[0]['thick'], g.mapMatrix)\n",
    "state"
   ]
  },
  {
   "cell_type": "code",
   "execution_count": null,
   "metadata": {},
   "outputs": [],
   "source": [
    "rewarder = Rewarder()\n",
    "def testGameTime():\n",
    "  g = CCGame()\n",
    "  g.start()\n",
    "  while not g.crashed:\n",
    "    g.send_random_command()\n",
    "    print_t(\"Reward: {}\".format(rewarder.calculate_reward(g)))\n",
    "  print_t(\"ticks: {}\".format(g.ticknum))\n",
    "  g.close()\n",
    "  return"
   ]
  },
  {
   "cell_type": "code",
   "execution_count": null,
   "metadata": {
    "scrolled": true
   },
   "outputs": [],
   "source": [
    "testGameTime()"
   ]
  },
  {
   "cell_type": "code",
   "execution_count": null,
   "metadata": {},
   "outputs": [],
   "source": [
    "%%timeit\n",
    "testGameTime()"
   ]
  },
  {
   "cell_type": "code",
   "execution_count": null,
   "metadata": {},
   "outputs": [],
   "source": [
    "\"\"\" TODO: As a baseline project, go to a certain point without dying. Use networkx\n",
    "to find the shortest path to the point.\n",
    "\"\"\""
   ]
  },
  {
   "cell_type": "code",
   "execution_count": null,
   "metadata": {},
   "outputs": [],
   "source": [
    "a=[{\"id\": 2, \"life\": 100}, {\"id\": 0, \"life\":80}]\n",
    "list(filter(lambda x: x[\"id\"]==0, a))"
   ]
  },
  {
   "cell_type": "code",
   "execution_count": null,
   "metadata": {},
   "outputs": [],
   "source": [
    "jsonstr = '[{\"x\":-1,\"y\":-7},{\"x\":0,\"y\":-7},{\"x\":1,\"y\":-7},{\"x\":-1,\"y\":-6},{\"x\":0,\"y\":-6},{\"x\":1,\"y\":-6},{\"x\":-1,\"y\":-5},{\"x\":0,\"y\":-5},{\"x\":1,\"y\":-5},{\"x\":-1,\"y\":-4},{\"x\":0,\"y\":-4},{\"x\":1,\"y\":-4},{\"x\":-2,\"y\":-3},{\"x\":-1,\"y\":-3},{\"x\":0,\"y\":-3},{\"x\":1,\"y\":-3},{\"x\":2,\"y\":-3},{\"x\":-3,\"y\":-2},{\"x\":-2,\"y\":-2},{\"x\":-1,\"y\":-2},{\"x\":0,\"y\":-2},{\"x\":1,\"y\":-2},{\"x\":2,\"y\":-2},{\"x\":3,\"y\":-2},{\"x\":-3,\"y\":-1},{\"x\":-2,\"y\":-1},{\"x\":-1,\"y\":-1},{\"x\":0,\"y\":-1},{\"x\":1,\"y\":-1},{\"x\":2,\"y\":-1},{\"x\":3,\"y\":-1},{\"x\":-3,\"y\":0},{\"x\":-2,\"y\":0},{\"x\":-1,\"y\":0},{\"x\":1,\"y\":0},{\"x\":2,\"y\":0},{\"x\":3,\"y\":0},{\"x\":-2,\"y\":1},{\"x\":-1,\"y\":1},{\"x\":0,\"y\":1},{\"x\":1,\"y\":1},{\"x\":2,\"y\":1},{\"x\":-1,\"y\":2},{\"x\":0,\"y\":2},{\"x\":1,\"y\":2},{\"x\":0,\"y\":3}]'"
   ]
  },
  {
   "cell_type": "code",
   "execution_count": null,
   "metadata": {},
   "outputs": [],
   "source": [
    "data = json.loads(jsonstr)"
   ]
  },
  {
   "cell_type": "code",
   "execution_count": null,
   "metadata": {},
   "outputs": [],
   "source": [
    "[data[k]['x'] == ss.viewAreaCoords[k][0] and data[k]['y']==ss.viewAreaCoords[k][1] for k in range(len(ss.viewAreaCoords))]"
   ]
  },
  {
   "cell_type": "code",
   "execution_count": null,
   "metadata": {},
   "outputs": [],
   "source": [
    "np.round([0.991, 0.0001]).astype(int)"
   ]
  },
  {
   "cell_type": "code",
   "execution_count": null,
   "metadata": {},
   "outputs": [],
   "source": []
  },
  {
   "cell_type": "code",
   "execution_count": null,
   "metadata": {},
   "outputs": [],
   "source": [
    "#x = {\"status\": False, \"car\": None}\n",
    "x = {\"status\": True, \"car\": {\"direction\": \"UP\"}}\n",
    "\n",
    "0 if x['status']==False else x['car']['direction']"
   ]
  },
  {
   "cell_type": "code",
   "execution_count": null,
   "metadata": {},
   "outputs": [],
   "source": [
    "o={\"a\": {\"b\": 2}}"
   ]
  },
  {
   "cell_type": "code",
   "execution_count": null,
   "metadata": {},
   "outputs": [],
   "source": [
    "o[\"a\"][\"b\"]"
   ]
  },
  {
   "cell_type": "code",
   "execution_count": null,
   "metadata": {},
   "outputs": [],
   "source": [
    "a = {\"p\": 1, \"q\": 3}\n",
    "b = a \n",
    "a = {\"p\":2, \"q\": 2}"
   ]
  },
  {
   "cell_type": "code",
   "execution_count": null,
   "metadata": {},
   "outputs": [],
   "source": [
    "b"
   ]
  },
  {
   "cell_type": "code",
   "execution_count": null,
   "metadata": {},
   "outputs": [],
   "source": [
    "a = ['END REASON: CRASHED', 'jsadkasjdkl']\n",
    "'crash' if 'END REASON: CRASHED' in a else 'no crash'"
   ]
  },
  {
   "cell_type": "code",
   "execution_count": null,
   "metadata": {},
   "outputs": [],
   "source": [
    "a = {\"alma\": [], \"korte\": {}}\n",
    "if (\"szar\" in a.keys() and len(a['szar']) > 0):\n",
    "  print(\"van szar\")"
   ]
  },
  {
   "cell_type": "code",
   "execution_count": 5,
   "metadata": {},
   "outputs": [],
   "source": [
    "mapstr = \"\"\"\n",
    "GPSSPRGGGGGTTTGGGGGGTTTGTTGGGGGGTTTGTGGGGGGGTTGGGGGGGGRPSSPG\n",
    "PPSSPCPPPPPPPPPPPPPPPPPPPPPPPPPPPPPPPPPPPPPPPPPPPPPPPPCPSSPP\n",
    "SSSSSXSSSSSSSSSSSSSSSSSSSSSSZSSZSSSSSSSSSSSSSSSSSSSSSSXSSSSS\n",
    "SSSSSXSSSSSSSSSSSSSSSSSSSSSSZSSZSSSSSSSSSSSSSSSSSSSSSSXSSSSS\n",
    "PPSSPCPZZPPPPPPPPPPPPPPPPPPPPSSPPPPPPPPPPPPPPPPPPPPZZPCPSSPP\n",
    "RCXXCRCXXCRRRRRRRRRRRRRRRRRRCXXCRRRRRRRRRRRRRRRRRRCXXCRCXXCR\n",
    "TPSSPRPSSPPPPPPPPPPPPPPPPPPPPSSPPPPPPPPPPPPPPPPPPPPSSPRPSSPG\n",
    "TPSSPRPSSSSSSSSZSSZSSSSSSSSSSSSSSSSSSSSSSSSSSSSSSSSSSPRPSSPG\n",
    "GPSSPRPSSSSSSSSZSSZSSSSSSSSSSSSSSSSSSSSSSSSSSSSSSSSSSPRPSSPT\n",
    "TPSSPRPSSPPPPPPPSSPPPPPPPPPPPPPPPPPPPPPPPPPPPPPPPPPSSPRPSSPG\n",
    "TPSSPRPSSSPPTBBPSSPGTGGGBBBBBGPPPPPPPPGTBBBBBBGBBPSSSPRPSSPG\n",
    "GPSSPRPSSSSPPTBPSSPTTTPPPPPPPPPSSSSSSPPPBBBBBBGBBPSGSPRPSSPT\n",
    "GPSSPRPPSSSSPPTPSSPGTGPSSSSSSSSSSSSSSSSPPPGTTPPPPPSGSPRPSSPT\n",
    "GPSSPRGPPSSSSPPPSSPPBBPSSSSSSSSSSPPSSSSSSPPPGPSSSSSGSPRPSSPG\n",
    "TPSSPRGGPPSSSSPSSSSPPPPSSPSSPPSSPPPPPSSSSSSPPPSSSSSSSPRPSSPG\n",
    "TPSSPRGGGPPSSSSSBBSSSSSSSSSSPPSSSSSSPPPSSSSSSZSSPPPPPPRPSSPT\n",
    "GPSSPRGGGGPPSSSSBBSSSSSSSSSSPPSPPPPSSSPPPSSSSZSSPPSSPGRPSSPT\n",
    "TPSSPRGGGGGPPPPSSSSPPPPPPPPPPPSPPSSSSSSPPPPPPPSSPPSSPTRPSSPG\n",
    "GPSSPRGGGGGGGGPPSSPPSSSSSSSSGPSSSSPPSSSSPPGTGPSSSSSSPTRPSSPG\n",
    "GPSSPRGGGGGBBBGPSSSSSSSSSSSSSPPPPPPPPSSSSPPGPPSSSSSSPTRPSSPG\n",
    "GPSSPRGGGGGBBBGPSSSSSSPPPPSSSSSSSSSSPPSSSSPPPSSSPPPPPTRPSSPT\n",
    "GPSSPRGGGGGBBBGPSSPPPPPGGPPSSSSSSSSSSPPSSSSPSSSSPBBBBTRPSSPG\n",
    "GPSSPRPPPPPPPPPPSSPGGTTTTTPPPPPPPPSSSSPPSSSSSSSPPBBBBBRPSSPG\n",
    "GPSSPRPSSSSSSSSSSSPGGTGGGTTTTGBBGPPSSSSPPSSSSSPPGGGGGTRPSSPG\n",
    "TPSSPRPSSSSSSSSSSSPGGTTBGTTTTTBBTGPPSSSSPPPPSSSPPPPPPTRPSSPG\n",
    "TPSSPRPSSPPPPPPPSSPGGTTGGTTGGTGTTTGPPSSSSSSPSSSSSSSSPGRPSSPT\n",
    "TPSSPRPSSPBGBBBPSSPGGTTGTTTGGPPPPTGGPPSSSSSPPSSSSSSSPGRPSSPT\n",
    "TPSSPRPSSPBGBBBPSSPGGGGGGGGGPPSSPPGGGPPPPPPPPPPPPPZZPPRPSSPG\n",
    "GPZZPCPZZPPPPPPPSSPPPPPPPPPPPSSSSPPPPPPPPPPPPPPPPSSSSPCPZZPG\n",
    "GPSSSXSSSSSSSSSSSSSSSSSSSSSSSSBBSSSSSSSSSSSSSSSSSSBBSSXSSSPT\n",
    "GPSSSXSSSSSSSSSSSSSSSSSSSSSSSSBBSSSSSSSSSSSSSSSSSSBBSSXSSSPT\n",
    "GPZZPCPPPPPPPPPPPPPPSSPPPPPPPSSSSPPPPPPPSSPPPPPPPSSSSPCPZZPG\n",
    "GPSSPRPSSSSPPBBBBPPSSSPGGPPPPPSSPPPPPGGPSSSPPGBBPPSSPPRPSSPT\n",
    "TPSSPRPSSSSSPBBBBPSSSSPBBPSSSSSSSSSSPGGPSSSSPGBBGPSSPTRPSSPT\n",
    "TPSSPRPPPSSSPGGGGPSSSPPGGPSSSSSSSSSSPGTPPSSSPTGTGPSSPTRPSSPG\n",
    "TPSSPRTTPPSSPGTTGPSSPPTTGPSSPPPPPPSSPGTGPPSSPGTTGPSSPTRPSSPG\n",
    "GPSSPRGBBPSSPGTTTPSSPGTTBPSSPGGGTPSSPGTTGPSSPGTTTPSSPGRPSSPG\n",
    "GPSSPRGBBPSSPGTTTPSSPGBBBPSSPGGTTPSSPGGGGPSSPGGTTPSSPGRPSSPG\n",
    "TPSSPRPPPPSSPPPPPPZZPPPPPPZZPPPPPPSSPPPPPPZZPPPPPPZZPPRPSSPG\n",
    "TPSSPRPSSSSSSSSSSSSSSSSSSSSSSSSSSSSSSSSSSZSSZSSSSSSSSPRPSSPG\n",
    "GPSSPRPSSSSSSSSSSSSSSSSSSSSSSSSSSSSSSSSSSZSSZSSSSSSSSPRPSSPG\n",
    "GPSSPRPSSPPPPPSSPPPPPPPPPPPPZZPPPPPZZPPPPPSSPPPPPSSPPPRPSSPG\n",
    "GPSSPRPSSPTTGPSSPGGGTTTGBBBPSSPGTTPSSPBBGPSSPGBBPSSPBGRPSSPT\n",
    "GPSSPRPSSPGGGPSSPGGGGTTGBBBPSSPGTGPSSPBBTPSSPTBBPSSPBTRPSSPT\n",
    "GPSSPRPSSPPPPPZZPPPPPPPPPPPPSSPPPPPSSPPPPPSSPPPPPSSPPGRPSSPG\n",
    "GPSSPRPSSSSSSZSSZSSSSSSSSSSSSSSSSSSSSSSSSSSSSSSSSSSSPGRPSSPG\n",
    "GPSSPRPSSSSSSZSSZSSSSSSSSSSSSSSSSSSSSSSSSSSSSSSSSSSSPTRPSSPT\n",
    "TPSSPRPPSSPPPPZZPPPPSSPPPPZZPPPPSSPPPPPPPPPPSSPPPPZZPTRPSSPG\n",
    "TPSSPRGPSSPBBPSSPBBPSSPGBPSSPBGPSSPGTTTGGGGPSSPGTPSSPGRPSSPT\n",
    "TPSSPRGPSSPBBPSSPBBPSSPBBPSSPBGPSSPTTTTGTTGPSSPGGPSSPGRPSSPG\n",
    "GPSSPRGPSSPPPPSSPPPPZZPPPPSSPPPPZZPPPPPPPPPPZZPPPPSSPTRPSSPT\n",
    "GPSSPRTPSSSSSSSSSSSSSSSSSSSSSSSSSSSSSSSSSSSSSSSSSSPPPGRPSSPG\n",
    "GPSSPRTPSSSSSSSSSSSSSSSSSSSSSSSSSSSSSSSSSSSSSSSSSSPGGTRPSSPG\n",
    "GPSSPRTPPPPPPPPPPPPPPPPPPPPPPSSPPPPPPPPPPPPPPPPPPPPGTTRPSSPG\n",
    "RCXXCRRRRRRRRRRRRRRRRRRRRRRRCXXCRRRRRRRRRRRRRRRRRRRRRRRCXXCR\n",
    "PPSSPCPPPPPPPPPPPPPPPPPPPPPPPSSPPPPPPPPPPPPPPPPPPPPPPPCPSSPP\n",
    "SSSSZXSSSSSSSSSSSSSSSSSSSSSSSSSSSSSSSSSSSSSSSSSSSSSSSSXZSSSS\n",
    "SSSSZXSSSSSSSSSSSSSSSSSSSSSSSSSSSSSSSSSSSSSSSSSSSSSSSSXZSSSS\n",
    "PPSSPCPPPPPPPPPPPPPPPPPPPPPPPPPPPPPPPPPPPPPPPPPPPPPPPPCPSSPP\n",
    "GPSSPRGGGGTTGGGTGGGGGGTTGGGGGGGGGGGTTGGGGGTGGTTGGGTTGGRPSSPG\n",
    "\"\"\""
   ]
  },
  {
   "cell_type": "code",
   "execution_count": 6,
   "metadata": {},
   "outputs": [],
   "source": [
    "mapstr = ''.join(mapstr.split('\\n'))"
   ]
  },
  {
   "cell_type": "code",
   "execution_count": 7,
   "metadata": {},
   "outputs": [
    {
     "data": {
      "text/plain": [
       "'GPSSPRGGGGGTTTGGGGGGTTTGTTGGGGGGTTTGTGGGGGGGTTGGGGGGGGRPSSPGPPSSPCPPPPPPPPPPPPPPPPPPPPPPPPPPPPPPPPPPPPPPPPPPPPPPPPCPSSPPSSSSSXSSSSSSSSSSSSSSSSSSSSSSZSSZSSSSSSSSSSSSSSSSSSSSSSXSSSSSSSSSSXSSSSSSSSSSSSSSSSSSSSSSZSSZSSSSSSSSSSSSSSSSSSSSSSXSSSSSPPSSPCPZZPPPPPPPPPPPPPPPPPPPPSSPPPPPPPPPPPPPPPPPPPPZZPCPSSPPRCXXCRCXXCRRRRRRRRRRRRRRRRRRCXXCRRRRRRRRRRRRRRRRRRCXXCRCXXCRTPSSPRPSSPPPPPPPPPPPPPPPPPPPPSSPPPPPPPPPPPPPPPPPPPPSSPRPSSPGTPSSPRPSSSSSSSSZSSZSSSSSSSSSSSSSSSSSSSSSSSSSSSSSSSSSSPRPSSPGGPSSPRPSSSSSSSSZSSZSSSSSSSSSSSSSSSSSSSSSSSSSSSSSSSSSSPRPSSPTTPSSPRPSSPPPPPPPSSPPPPPPPPPPPPPPPPPPPPPPPPPPPPPPPPPSSPRPSSPGTPSSPRPSSSPPTBBPSSPGTGGGBBBBBGPPPPPPPPGTBBBBBBGBBPSSSPRPSSPGGPSSPRPSSSSPPTBPSSPTTTPPPPPPPPPSSSSSSPPPBBBBBBGBBPSGSPRPSSPTGPSSPRPPSSSSPPTPSSPGTGPSSSSSSSSSSSSSSSSPPPGTTPPPPPSGSPRPSSPTGPSSPRGPPSSSSPPPSSPPBBPSSSSSSSSSSPPSSSSSSPPPGPSSSSSGSPRPSSPGTPSSPRGGPPSSSSPSSSSPPPPSSPSSPPSSPPPPPSSSSSSPPPSSSSSSSPRPSSPGTPSSPRGGGPPSSSSSBBSSSSSSSSSSPPSSSSSSPPPSSSSSSZSSPPPPPPRPSSPTGPSSPRGGGGPPSSSSBBSSSSSSSSSSPPSPPPPSSSPPPSSSSZSSPPSSPGRPSSPTTPSSPRGGGGGPPPPSSSSPPPPPPPPPPPSPPSSSSSSPPPPPPPSSPPSSPTRPSSPGGPSSPRGGGGGGGGPPSSPPSSSSSSSSGPSSSSPPSSSSPPGTGPSSSSSSPTRPSSPGGPSSPRGGGGGBBBGPSSSSSSSSSSSSSPPPPPPPPSSSSPPGPPSSSSSSPTRPSSPGGPSSPRGGGGGBBBGPSSSSSSPPPPSSSSSSSSSSPPSSSSPPPSSSPPPPPTRPSSPTGPSSPRGGGGGBBBGPSSPPPPPGGPPSSSSSSSSSSPPSSSSPSSSSPBBBBTRPSSPGGPSSPRPPPPPPPPPPSSPGGTTTTTPPPPPPPPSSSSPPSSSSSSSPPBBBBBRPSSPGGPSSPRPSSSSSSSSSSSPGGTGGGTTTTGBBGPPSSSSPPSSSSSPPGGGGGTRPSSPGTPSSPRPSSSSSSSSSSSPGGTTBGTTTTTBBTGPPSSSSPPPPSSSPPPPPPTRPSSPGTPSSPRPSSPPPPPPPSSPGGTTGGTTGGTGTTTGPPSSSSSSPSSSSSSSSPGRPSSPTTPSSPRPSSPBGBBBPSSPGGTTGTTTGGPPPPTGGPPSSSSSPPSSSSSSSPGRPSSPTTPSSPRPSSPBGBBBPSSPGGGGGGGGGPPSSPPGGGPPPPPPPPPPPPPZZPPRPSSPGGPZZPCPZZPPPPPPPSSPPPPPPPPPPPSSSSPPPPPPPPPPPPPPPPSSSSPCPZZPGGPSSSXSSSSSSSSSSSSSSSSSSSSSSSSBBSSSSSSSSSSSSSSSSSSBBSSXSSSPTGPSSSXSSSSSSSSSSSSSSSSSSSSSSSSBBSSSSSSSSSSSSSSSSSSBBSSXSSSPTGPZZPCPPPPPPPPPPPPPPSSPPPPPPPSSSSPPPPPPPSSPPPPPPPSSSSPCPZZPGGPSSPRPSSSSPPBBBBPPSSSPGGPPPPPSSPPPPPGGPSSSPPGBBPPSSPPRPSSPTTPSSPRPSSSSSPBBBBPSSSSPBBPSSSSSSSSSSPGGPSSSSPGBBGPSSPTRPSSPTTPSSPRPPPSSSPGGGGPSSSPPGGPSSSSSSSSSSPGTPPSSSPTGTGPSSPTRPSSPGTPSSPRTTPPSSPGTTGPSSPPTTGPSSPPPPPPSSPGTGPPSSPGTTGPSSPTRPSSPGGPSSPRGBBPSSPGTTTPSSPGTTBPSSPGGGTPSSPGTTGPSSPGTTTPSSPGRPSSPGGPSSPRGBBPSSPGTTTPSSPGBBBPSSPGGTTPSSPGGGGPSSPGGTTPSSPGRPSSPGTPSSPRPPPPSSPPPPPPZZPPPPPPZZPPPPPPSSPPPPPPZZPPPPPPZZPPRPSSPGTPSSPRPSSSSSSSSSSSSSSSSSSSSSSSSSSSSSSSSSSZSSZSSSSSSSSPRPSSPGGPSSPRPSSSSSSSSSSSSSSSSSSSSSSSSSSSSSSSSSSZSSZSSSSSSSSPRPSSPGGPSSPRPSSPPPPPSSPPPPPPPPPPPPZZPPPPPZZPPPPPSSPPPPPSSPPPRPSSPGGPSSPRPSSPTTGPSSPGGGTTTGBBBPSSPGTTPSSPBBGPSSPGBBPSSPBGRPSSPTGPSSPRPSSPGGGPSSPGGGGTTGBBBPSSPGTGPSSPBBTPSSPTBBPSSPBTRPSSPTGPSSPRPSSPPPPPZZPPPPPPPPPPPPSSPPPPPSSPPPPPSSPPPPPSSPPGRPSSPGGPSSPRPSSSSSSZSSZSSSSSSSSSSSSSSSSSSSSSSSSSSSSSSSSSSSPGRPSSPGGPSSPRPSSSSSSZSSZSSSSSSSSSSSSSSSSSSSSSSSSSSSSSSSSSSSPTRPSSPTTPSSPRPPSSPPPPZZPPPPSSPPPPZZPPPPSSPPPPPPPPPPSSPPPPZZPTRPSSPGTPSSPRGPSSPBBPSSPBBPSSPGBPSSPBGPSSPGTTTGGGGPSSPGTPSSPGRPSSPTTPSSPRGPSSPBBPSSPBBPSSPBBPSSPBGPSSPTTTTGTTGPSSPGGPSSPGRPSSPGGPSSPRGPSSPPPPSSPPPPZZPPPPSSPPPPZZPPPPPPPPPPZZPPPPSSPTRPSSPTGPSSPRTPSSSSSSSSSSSSSSSSSSSSSSSSSSSSSSSSSSSSSSSSSSPPPGRPSSPGGPSSPRTPSSSSSSSSSSSSSSSSSSSSSSSSSSSSSSSSSSSSSSSSSSPGGTRPSSPGGPSSPRTPPPPPPPPPPPPPPPPPPPPPPSSPPPPPPPPPPPPPPPPPPPPGTTRPSSPGRCXXCRRRRRRRRRRRRRRRRRRRRRRRCXXCRRRRRRRRRRRRRRRRRRRRRRRCXXCRPPSSPCPPPPPPPPPPPPPPPPPPPPPPPSSPPPPPPPPPPPPPPPPPPPPPPPCPSSPPSSSSZXSSSSSSSSSSSSSSSSSSSSSSSSSSSSSSSSSSSSSSSSSSSSSSSSXZSSSSSSSSZXSSSSSSSSSSSSSSSSSSSSSSSSSSSSSSSSSSSSSSSSSSSSSSSSXZSSSSPPSSPCPPPPPPPPPPPPPPPPPPPPPPPPPPPPPPPPPPPPPPPPPPPPPPPPCPSSPPGPSSPRGGGGTTGGGTGGGGGGTTGGGGGGGGGGGTTGGGGGTGGTTGGGTTGGRPSSPG'"
      ]
     },
     "execution_count": 7,
     "metadata": {},
     "output_type": "execute_result"
    }
   ],
   "source": [
    "mapstr"
   ]
  },
  {
   "cell_type": "code",
   "execution_count": null,
   "metadata": {},
   "outputs": [],
   "source": []
  }
 ],
 "metadata": {
  "kernelspec": {
   "display_name": "Python 3",
   "language": "python",
   "name": "python3"
  },
  "language_info": {
   "codemirror_mode": {
    "name": "ipython",
    "version": 3
   },
   "file_extension": ".py",
   "mimetype": "text/x-python",
   "name": "python",
   "nbconvert_exporter": "python",
   "pygments_lexer": "ipython3",
   "version": "3.6.7"
  }
 },
 "nbformat": 4,
 "nbformat_minor": 2
}
