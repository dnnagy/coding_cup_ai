{
 "cells": [
  {
   "cell_type": "code",
   "execution_count": 1,
   "metadata": {},
   "outputs": [],
   "source": [
    "from common_functions import *\n",
    "from game import CCGame\n",
    "from state import StateSpace\n",
    "from rewarder import Rewarder\n",
    "from DQN import DQNAgent\n",
    "\n",
    "plt.rcParams['axes.facecolor'] = '#323A48'\n",
    "plt.rcParams['axes.edgecolor'] = '#92A2BD'\n",
    "plt.rcParams['figure.facecolor'] = '#323A48'\n",
    "plt.rcParams['text.color'] = '#DBE1EA'\n",
    "plt.rcParams['xtick.color'] = '#DBE1EA'\n",
    "plt.rcParams['ytick.color'] = '#DBE1EA'\n",
    "plt.rcParams['grid.linestyle'] = ':'\n",
    "plt.rcParams['grid.color'] = '#3F495A'\n",
    "\n",
    "from cycler import cycler\n",
    "plt.rcParams['axes.prop_cycle'] = cycler(color=['c', 'goldenrod', 'mediumseagreen', 'blueviolet', 'indianred', 'mediumpurple', 'cornflowerblue',\n",
    "                                               'darkorchid', 'gold', 'olivedrab'])"
   ]
  },
  {
   "cell_type": "code",
   "execution_count": 2,
   "metadata": {},
   "outputs": [
    {
     "name": "stdout",
     "output_type": "stream",
     "text": [
      "[2019-04-21 22:07:26] CAR CRASHED.\n",
      "[2019-04-21 22:07:26] ticks: 63\n",
      "[2019-04-21 22:07:26] Game already closed.\n"
     ]
    }
   ],
   "source": [
    "rewarder = Rewarder()\n",
    "agent = DQNAgent()\n",
    "stateSpace = StateSpace()\n",
    "\n",
    "def testGameTime():\n",
    "  g = CCGame()\n",
    "  g.start()\n",
    "  while not g.crashed:\n",
    "    state = stateSpace.stateFromTick(g.car_id, g.tick_data, g.mapMatrix)\n",
    "    command = g.send_random_command()\n",
    "    reward = rewarder.calculate_reward(g)\n",
    "    state_next = stateSpace.stateFromTick(g.car_id, g.tick_data, g.mapMatrix)\n",
    "    agent.remember(state, command, reward, state_next, done=g.crashed)\n",
    "  print_t(\"ticks: {}\".format(g.ticknum))\n",
    "  g.close()\n",
    "  return\n",
    "testGameTime()"
   ]
  },
  {
   "cell_type": "code",
   "execution_count": 3,
   "metadata": {},
   "outputs": [],
   "source": [
    "agent.train_on_memory()"
   ]
  },
  {
   "cell_type": "code",
   "execution_count": 4,
   "metadata": {},
   "outputs": [],
   "source": [
    "def train_agent(n_games=10):\n",
    "  rewarder = Rewarder()\n",
    "  agent = DQNAgent()\n",
    "  stateSpace = StateSpace()\n",
    "  game = CCGame()\n",
    "  scores = []\n",
    "  ticks = []\n",
    "  \n",
    "  for k in range(n_games):\n",
    "    game.start()\n",
    "    rewards = []\n",
    "    while not game.crashed:\n",
    "      state = stateSpace.stateFromTick(game.car_id, game.tick_data, game.mapMatrix)\n",
    "      command = game.send_random_command()\n",
    "      reward = rewarder.calculate_reward(game)\n",
    "      rewards.append(reward)\n",
    "      state_next = stateSpace.stateFromTick(game.car_id, game.tick_data, game.mapMatrix)\n",
    "      agent.remember(state, command, reward, state_next, done=game.crashed)\n",
    "    if game.started:\n",
    "      game.close()\n",
    "      \n",
    "    print_t(\"Game #{0} ended after {1} ticks.\".format(k,game.ticknum))\n",
    "    ticks.append(game.ticknum)\n",
    "    scores.append(np.sum(rewards))\n",
    "  return game"
   ]
  },
  {
   "cell_type": "code",
   "execution_count": null,
   "metadata": {
    "scrolled": false
   },
   "outputs": [
    {
     "name": "stdout",
     "output_type": "stream",
     "text": [
      "[2019-04-21 22:08:03] CAR CRASHED.\n",
      "[2019-04-21 22:08:03] Game #0 ended after 11 ticks.\n",
      "[2019-04-21 22:08:05] CAR CRASHED.\n",
      "[2019-04-21 22:08:05] Game #1 ended after 18 ticks.\n",
      "[2019-04-21 22:08:06] CAR CRASHED.\n",
      "[2019-04-21 22:08:06] Game #2 ended after 22 ticks.\n",
      "[2019-04-21 22:08:09] CAR CRASHED.\n",
      "[2019-04-21 22:08:09] Game #3 ended after 44 ticks.\n",
      "[2019-04-21 22:08:11] CAR CRASHED.\n",
      "[2019-04-21 22:08:11] Game #4 ended after 24 ticks.\n",
      "[2019-04-21 22:08:13] CAR CRASHED.\n",
      "[2019-04-21 22:08:13] Game #5 ended after 32 ticks.\n",
      "[2019-04-21 22:08:14] CAR CRASHED.\n",
      "[2019-04-21 22:08:14] Game #6 ended after 15 ticks.\n",
      "[2019-04-21 22:08:14] CAR CRASHED.\n",
      "[2019-04-21 22:08:14] Game #7 ended after 10 ticks.\n"
     ]
    }
   ],
   "source": [
    "game = train_agent()"
   ]
  },
  {
   "cell_type": "code",
   "execution_count": 17,
   "metadata": {},
   "outputs": [
    {
     "name": "stdout",
     "output_type": "stream",
     "text": [
      "[2019-04-21 22:05:44] Game already closed.\n"
     ]
    }
   ],
   "source": [
    "game.close()"
   ]
  },
  {
   "cell_type": "code",
   "execution_count": 4,
   "metadata": {},
   "outputs": [],
   "source": [
    "g = CCGame()\n",
    "\n",
    "for k in range(10):\n",
    "  g.start()\n",
    "  g.send_random_command()\n",
    "  g.close()"
   ]
  },
  {
   "cell_type": "code",
   "execution_count": 4,
   "metadata": {
    "scrolled": true
   },
   "outputs": [
    {
     "name": "stdout",
     "output_type": "stream",
     "text": [
      "[2019-04-21 21:44:02] Game id: 24985\n",
      "[2019-04-21 21:44:02] command: CAR_INDEX_RIGHT\n",
      "[2019-04-21 21:44:02] reward: 0\n"
     ]
    }
   ],
   "source": [
    "## Test section\n",
    "g = CCGame(log_ticks=False)\n",
    "ss = StateSpace()\n",
    "rewarder = Rewarder()\n",
    "g.start()\n",
    "state = ss.stateFromTick(g.car_id, g.tick_data, g.mapMatrix)\n",
    "c=g.send_random_command()\n",
    "reward = rewarder.calculate_reward(g)\n",
    "g.close()\n",
    "\n",
    "print_t(\"Game id: {}\".format(g.game_id))\n",
    "print_t(\"command: {}\".format(c))\n",
    "print_t(\"reward: {}\".format(reward))"
   ]
  },
  {
   "cell_type": "code",
   "execution_count": 5,
   "metadata": {
    "scrolled": true
   },
   "outputs": [],
   "source": [
    "# import json\n",
    "# logdir = '/Users/nagydaniel/Documents/Munka/asseco/coding_cup/logs/'\n",
    "# log_9327 = open(logdir + 'log_9327').read()\n",
    "# log_9327 = json.loads(log_9327)\n",
    "# log_9327[0]"
   ]
  },
  {
   "cell_type": "code",
   "execution_count": 6,
   "metadata": {},
   "outputs": [],
   "source": [
    "# ss = StateSpace()\n",
    "# state = ss.stateFromTick(carid, log_9327[0]['thick'], g.mapMatrix)\n",
    "# state"
   ]
  },
  {
   "cell_type": "code",
   "execution_count": null,
   "metadata": {
    "scrolled": true
   },
   "outputs": [],
   "source": []
  },
  {
   "cell_type": "code",
   "execution_count": 7,
   "metadata": {},
   "outputs": [
    {
     "data": {
      "text/plain": [
       "75"
      ]
     },
     "execution_count": 7,
     "metadata": {},
     "output_type": "execute_result"
    }
   ],
   "source": [
    "len(agent.memory)"
   ]
  },
  {
   "cell_type": "code",
   "execution_count": 8,
   "metadata": {},
   "outputs": [
    {
     "data": {
      "text/plain": [
       "' TODO: As a baseline project, go to a certain point without dying. Use networkx\\nto find the shortest path to the point.\\n'"
      ]
     },
     "execution_count": 8,
     "metadata": {},
     "output_type": "execute_result"
    }
   ],
   "source": [
    "\"\"\" TODO: As a baseline project, go to a certain point without dying. Use networkx\n",
    "to find the shortest path to the point.\n",
    "\"\"\""
   ]
  },
  {
   "cell_type": "code",
   "execution_count": 9,
   "metadata": {},
   "outputs": [
    {
     "data": {
      "text/plain": [
       "[{'id': 0, 'life': 80}]"
      ]
     },
     "execution_count": 9,
     "metadata": {},
     "output_type": "execute_result"
    }
   ],
   "source": [
    "a=[{\"id\": 2, \"life\": 100}, {\"id\": 0, \"life\":80}]\n",
    "list(filter(lambda x: x[\"id\"]==0, a))"
   ]
  },
  {
   "cell_type": "code",
   "execution_count": 10,
   "metadata": {},
   "outputs": [],
   "source": [
    "jsonstr = '[{\"x\":-1,\"y\":-7},{\"x\":0,\"y\":-7},{\"x\":1,\"y\":-7},{\"x\":-1,\"y\":-6},{\"x\":0,\"y\":-6},{\"x\":1,\"y\":-6},{\"x\":-1,\"y\":-5},{\"x\":0,\"y\":-5},{\"x\":1,\"y\":-5},{\"x\":-1,\"y\":-4},{\"x\":0,\"y\":-4},{\"x\":1,\"y\":-4},{\"x\":-2,\"y\":-3},{\"x\":-1,\"y\":-3},{\"x\":0,\"y\":-3},{\"x\":1,\"y\":-3},{\"x\":2,\"y\":-3},{\"x\":-3,\"y\":-2},{\"x\":-2,\"y\":-2},{\"x\":-1,\"y\":-2},{\"x\":0,\"y\":-2},{\"x\":1,\"y\":-2},{\"x\":2,\"y\":-2},{\"x\":3,\"y\":-2},{\"x\":-3,\"y\":-1},{\"x\":-2,\"y\":-1},{\"x\":-1,\"y\":-1},{\"x\":0,\"y\":-1},{\"x\":1,\"y\":-1},{\"x\":2,\"y\":-1},{\"x\":3,\"y\":-1},{\"x\":-3,\"y\":0},{\"x\":-2,\"y\":0},{\"x\":-1,\"y\":0},{\"x\":1,\"y\":0},{\"x\":2,\"y\":0},{\"x\":3,\"y\":0},{\"x\":-2,\"y\":1},{\"x\":-1,\"y\":1},{\"x\":0,\"y\":1},{\"x\":1,\"y\":1},{\"x\":2,\"y\":1},{\"x\":-1,\"y\":2},{\"x\":0,\"y\":2},{\"x\":1,\"y\":2},{\"x\":0,\"y\":3}]'"
   ]
  },
  {
   "cell_type": "code",
   "execution_count": 11,
   "metadata": {},
   "outputs": [
    {
     "ename": "NameError",
     "evalue": "name 'json' is not defined",
     "output_type": "error",
     "traceback": [
      "\u001b[0;31m---------------------------------------------------------------------------\u001b[0m",
      "\u001b[0;31mNameError\u001b[0m                                 Traceback (most recent call last)",
      "\u001b[0;32m<ipython-input-11-295da7b53f4e>\u001b[0m in \u001b[0;36m<module>\u001b[0;34m\u001b[0m\n\u001b[0;32m----> 1\u001b[0;31m \u001b[0mdata\u001b[0m \u001b[0;34m=\u001b[0m \u001b[0mjson\u001b[0m\u001b[0;34m.\u001b[0m\u001b[0mloads\u001b[0m\u001b[0;34m(\u001b[0m\u001b[0mjsonstr\u001b[0m\u001b[0;34m)\u001b[0m\u001b[0;34m\u001b[0m\u001b[0;34m\u001b[0m\u001b[0m\n\u001b[0m",
      "\u001b[0;31mNameError\u001b[0m: name 'json' is not defined"
     ]
    }
   ],
   "source": [
    "data = json.loads(jsonstr)"
   ]
  },
  {
   "cell_type": "code",
   "execution_count": null,
   "metadata": {},
   "outputs": [],
   "source": [
    "[data[k]['x'] == ss.viewAreaCoords[k][0] and data[k]['y']==ss.viewAreaCoords[k][1] for k in range(len(ss.viewAreaCoords))]"
   ]
  },
  {
   "cell_type": "code",
   "execution_count": null,
   "metadata": {},
   "outputs": [],
   "source": [
    "np.round([0.991, 0.0001]).astype(int)"
   ]
  },
  {
   "cell_type": "code",
   "execution_count": null,
   "metadata": {},
   "outputs": [],
   "source": []
  },
  {
   "cell_type": "code",
   "execution_count": null,
   "metadata": {},
   "outputs": [],
   "source": [
    "#x = {\"status\": False, \"car\": None}\n",
    "x = {\"status\": True, \"car\": {\"direction\": \"UP\"}}\n",
    "\n",
    "0 if x['status']==False else x['car']['direction']"
   ]
  },
  {
   "cell_type": "code",
   "execution_count": null,
   "metadata": {},
   "outputs": [],
   "source": [
    "o={\"a\": {\"b\": 2}}"
   ]
  },
  {
   "cell_type": "code",
   "execution_count": null,
   "metadata": {},
   "outputs": [],
   "source": [
    "o[\"a\"][\"b\"]"
   ]
  },
  {
   "cell_type": "code",
   "execution_count": null,
   "metadata": {},
   "outputs": [],
   "source": [
    "a = {\"p\": 1, \"q\": 3}\n",
    "b = a \n",
    "a = {\"p\":2, \"q\": 2}"
   ]
  },
  {
   "cell_type": "code",
   "execution_count": null,
   "metadata": {},
   "outputs": [],
   "source": [
    "b"
   ]
  },
  {
   "cell_type": "code",
   "execution_count": null,
   "metadata": {},
   "outputs": [],
   "source": [
    "a = ['END REASON: CRASHED', 'jsadkasjdkl']\n",
    "'crash' if 'END REASON: CRASHED' in a else 'no crash'"
   ]
  },
  {
   "cell_type": "code",
   "execution_count": null,
   "metadata": {},
   "outputs": [],
   "source": [
    "a = {\"alma\": [], \"korte\": {}}\n",
    "if (\"szar\" in a.keys() and len(a['szar']) > 0):\n",
    "  print(\"van szar\")"
   ]
  }
 ],
 "metadata": {
  "kernelspec": {
   "display_name": "Python 3",
   "language": "python",
   "name": "python3"
  },
  "language_info": {
   "codemirror_mode": {
    "name": "ipython",
    "version": 3
   },
   "file_extension": ".py",
   "mimetype": "text/x-python",
   "name": "python",
   "nbconvert_exporter": "python",
   "pygments_lexer": "ipython3",
   "version": "3.6.7"
  }
 },
 "nbformat": 4,
 "nbformat_minor": 2
}
