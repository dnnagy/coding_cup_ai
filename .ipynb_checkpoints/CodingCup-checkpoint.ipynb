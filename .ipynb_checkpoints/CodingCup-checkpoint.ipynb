{
 "cells": [
  {
   "cell_type": "code",
   "execution_count": 1,
   "metadata": {},
   "outputs": [
    {
     "data": {
      "text/plain": [
       "'2.0.0-alpha0'"
      ]
     },
     "execution_count": 1,
     "metadata": {},
     "output_type": "execute_result"
    }
   ],
   "source": [
    "import tensorflow as tf\n",
    "tf.__version__"
   ]
  },
  {
   "cell_type": "code",
   "execution_count": 2,
   "metadata": {},
   "outputs": [],
   "source": [
    "import numpy as np\n",
    "from matplotlib import pyplot as plt\n",
    "\n",
    "plt.rcParams['axes.facecolor'] = '#323A48'\n",
    "plt.rcParams['axes.edgecolor'] = '#92A2BD'\n",
    "plt.rcParams['figure.facecolor'] = '#323A48'\n",
    "plt.rcParams['text.color'] = '#DBE1EA'\n",
    "plt.rcParams['xtick.color'] = '#DBE1EA'\n",
    "plt.rcParams['ytick.color'] = '#DBE1EA'\n",
    "plt.rcParams['grid.linestyle'] = ':'\n",
    "plt.rcParams['grid.color'] = '#3F495A'\n",
    "\n",
    "from cycler import cycler\n",
    "plt.rcParams['axes.prop_cycle'] = cycler(color=['c', 'goldenrod', 'mediumseagreen', 'blueviolet', 'indianred', 'mediumpurple', 'cornflowerblue',\n",
    "                                               'darkorchid', 'gold', 'olivedrab'])\n",
    "import time\n",
    "\n",
    "## 24 hour format ##\n",
    "def print_t(str_):\n",
    "  print( \"[\" + time.strftime(\"%Y-%m-%d %H:%M:%S\") + \"] \" + str(str_))\n",
    "  \n",
    "def timestamp():\n",
    "  return time.strftime(\"%y%m%dd%Hh%Mm%S\")"
   ]
  },
  {
   "cell_type": "code",
   "execution_count": 3,
   "metadata": {},
   "outputs": [],
   "source": [
    "import socket\n",
    "import json\n",
    "\n",
    "class CCGame:\n",
    "  def __init__(self):\n",
    "    self.tcp_ip = '31.46.64.35'\n",
    "    self.tcp_port = 12323\n",
    "    self.team_token = '1iVXOVZK7ldH5Kr6qYCEkZE6xpR0SXZJkyfQayrKfJ2e9S8xdeTjsV9oohjePSsUXFOcDnevsu918'\n",
    "    self.buffersize = 1024\n",
    "    self.socket = socket.socket(socket.AF_INET, socket.SOCK_STREAM)\n",
    "    \n",
    "    self.valid_commands = np.array([\"NO_OP\", \"ACCELERATION\", \"DECELERATION\", \"CAR_INDEX_LEFT\", \"CAR_INDEX_RIGHT\",\n",
    "                 \"CLEAR\", \"FULL_THROTTLE\", \"EMERGENCY_BRAKE\", \"GO_LEFT\", \"GO_RIGHT\"])\n",
    "    \n",
    "    # Build map \n",
    "    mapstr = \"GPSSPGGGGGGGGGGGGGGGGGGGGGGGGGGGGGGGGGGGGGGGGGGGGGGGGGGPSSPGPPSSPPPPPPPPPPPPPPPPPPPPPPPPPPPPPPPPPPPPPPPPPPPPPPPPPPPPSSPPSSSSSSSSSSSSSSSSSSSSSSSSSSSSZSSZSSSSSSSSSSSSSSSSSSSSSSSSSSSSSSSSSSSSSSSSSSSSSSSSSSSSSSSSZSSZSSSSSSSSSSSSSSSSSSSSSSSSSSSSPPSSPPPZZPPPPPPPPPPPPPPPPPPPPSSPPPPPPPPPPPPPPPPPPPPZZPPPSSPPGPSSPGPSSPGBBGBBGGBBGGBBGBBGPSSPGBBGBBGGBBGGBBGBBGPSSPBPSSPGGPSSPBPSSPPPPPPPPPPPPPPPPPPPPSSPPPPPPPPPPPPPPPPPPPPSSPBPSSPGGPSSPBPSSSSSSSSZSSZSSSSSSSSSSSSSSSSSSSSSSSSSSSSSSSSSSPGPSSPGGPSSPBPSSSSSSSSZSSZSSSSSSSSSSSSSSSSSSSSSSSSSSSSSSSSSSPBPSSPGGPSSPBPSSPPPPPPPSSPPPPPPPPPPPPPPPPPPPPPPPPPPPPPPPPPSSPBPSSPGGPSSPGPSSSPPGBBPSSPGGGGGBBBBBGPPPPPPPPGGBBBBBBGBBPSSSPGPSSPGGPSSPBPSSSSPPGBPSSPGTGPPPPPPPPPSSSSSSPPPBBBBBBGBBPSGSPBPSSPGGPSSPBPPSSSSPPGPSSPGGGPSSSSSSSSSSSSSSSSPPPGGGPPPPPSGSPBPSSPGGPSSPGGPPSSSSPPPSSPPBBPSSSSSSSSSSPPSSSSSSPPPGPSSSSSGSPGPSSPGGPSSPGGGPPSSSSPSSSSPPPPSSPSSPPSSPPPPPSSSSSSPPPSSSSSSSPGPSSPGGPSSPGGGGPPSSSSSBBSSSSSSSSSSPPSSSSSSPPPSSSSSSZSSPPPPPPGPSSPGGPSSPGGGGGPPSSSSBBSSSSSSSSSSPPSPPPPSSSPPPSSSSZSSPPSSPGGPSSPGGPSSPGGGGGGPPPPSSSSPPPPPPPPPPPSPPSSSSSSPPPPPPPSSPPSSPTTPSSPGGPSSPGGGGGGGGGPPSSPPSSSSSSSSGPSSSSPPSSSSPPGTGPSSSSSSPTGPSSPGGPSSPGGGGGGBBBGPSSSSSSSSSSSSSPPPPPPPPSSSSPPGPPSSSSSSPTTPSSPGGPSSPGGGGGGBBBGPSSSSSSPPPPSSSSSSSSSSPPSSSSPPPSSSPPPPPTTPSSPGGPSSPGGGGGGBBBGPSSPPPPPGGPPSSSSSSSSSSPPSSSSPSSSSPBBBBTGPSSPGGPSSPGPPPPPPPPPPSSPGGGGGGGPPPPPPPPSSSSPPSSSSSSSPPBBBBBGPSSPGGPSSPGPSSSSSSSSSSSPGGGGGGGGGGGBBGPPSSSSPPSSSSSPPGGGGGGGPSSPGGPSSPGPSSSSSSSSSSSPGGGGBGGGGGGBBGGPPSSSSPPPPSSSPPPPPPGTPSSPGGPSSPGPSSPPPPPPPSSPGGGGGGGGGGGGGGGGPPSSSSSSPSSSSSSSSPGTPSSPGGPSSPGPSSPBGBBBPSSPGGGGGGGGGGPPPPGGGPPSSSSSPPSSSSSSSPGTPSSPGGPSSPGPSSPBGBBBPSSPGGGGGGGGGPPSSPPGGGPPPPPPPPPPPPPZZPPGPSSPGGPZZPPPZZPPPPPPPSSPPPPPPPPPPPSSSSPPPPPPPPPPPPPPPPSSSSPPPZZPGGPSSSSSSSSSSSSSSSSSSSSSSSSSSSSBBSSSSSSSSSSSSSSSSSSBBSSSSSSPGGPSSSSSSSSSSSSSSSSSSSSSSSSSSSSBBSSSSSSSSSSSSSSSSSSBBSSSSSSPGGPZZPPPPPPPPPPPPPPPPSSPPPPPPPSSSSPPPPPPPSSPPPPPPPSSSSPPPZZPGGPSSPGPSSSSPPBBBBPPSSSPGGPPPPPSSPPPPPGGPSSSPPGBBPPSSPPGPSSPGGPSSPBPSSSSSPBBBBPSSSSPBBPSSSSSSSSSSPGGPSSSSPGBBGPSSPGBPSSPGGPSSPBPPPSSSPGGGGPSSSPPGGPSSSSSSSSSSPGGPPSSSPGGGGPSSPGBPSSPGGPSSPGGGPPSSPGGGGPSSPPGGGPSSPPPPPPSSPGGGPPSSPGGGGPSSPGBPSSPGGPSSPGGBBPSSPGGGGPSSPGGGBPSSPGGGGPSSPGGGGPSSPGGGGPSSPGBPSSPGGPSSPGGBBPSSPGGGGPSSPGBBBPSSPGGGGPSSPGGGGPSSPGGGGPSSPGBPSSPGGPSSPGPPPPSSPPPPPPZZPPPPPPZZPPPPPPSSPPPPPPZZPPPPPPZZPPGPSSPGGPSSPBPSSSSSSSSSSSSSSSSSSSSSSSSSSSSSSSSSSZSSZSSSSSSSSPBPSSPGGPSSPBPSSSSSSSSSSSSSSSSSSSSSSSSSSSSSSSSSSZSSZSSSSSSSSPBPSSPGGPSSPGPSSPPPPPSSPPPPPPPPPPPPZZPPPPPZZPPPPPSSPPPPPSSPPPBPSSPGGPSSPBPSSPGGGPSSPGGGGGGGBBBPSSPGGGPSSPBBGPSSPGBBPSSPBGBPSSPGGPSSPBPSSPGGGPSSPGGGGGGGBBBPSSPGGGPSSPBBGPSSPGBBPSSPBGBPSSPGGPSSPGPSSPPPPPZZPPPPPPPPPPPPSSPPPPPSSPPPPPSSPPPPPSSPPGGPSSPGGPSSPGPSSSSSSZSSZSSSSSSSSSSSSSSSSSSSSSSSSSSSSSSSSSSSPGBPSSPGGPSSPGPSSSSSSZSSZSSSSSSSSSSSSSSSSSSSSSSSSSSSSSSSSSSSPGBPSSPGGPSSPGPPSSPPPPZZPPPPSSPPPPZZPPPPSSPPPPPPPPPPSSPPPPZZPGBPSSPGGPSSPGGPSSPBBPSSPBBPSSPGBPSSPBGPSSPGGGGGGGGPSSPGGPSSPGBPSSPGGPSSPGGPSSPBBPSSPBBPSSPBBPSSPBGPSSPGGGGGGGGPSSPGGPSSPGBPSSPGGPSSPGGPSSPPPPSSPPPPZZPPPPSSPPPPZZPPPPPPPPPPZZPPPPSSPGGPSSPGGPSSPGGPSSSSSSSSSSSSSSSSSSSSSSSSSSSSSSSSSSSSSSSSSSPPPGGPSSPGGPSSPGGPSSSSSSSSSSSSSSSSSSSSSSSSSSSSSSSSSSSSSSSSSSPGGGGPSSPGGPSSPGGPPPPPPPPPPPPPPPPPPPPPPSSPPPPPPPPPPPPPPPPPPPPGGGGPSSPGGPSSPGGGGGGGGGGGGGBBBBGGBBBBPSSPBBBBGGBBBBGGGGGGGGGGGGGPSSPGPPSSPPPPPPPPPPPPPPPPPPPPPPPPPSSPPPPPPPPPPPPPPPPPPPPPPPPPSSPPSSSSZSSSSSSSSSSSSSSSSSSSSSSSSSSSSSSSSSSSSSSSSSSSSSSSSSSZSSSSSSSSZSSSSSSSSSSSSSSSSSSSSSSSSSSSSSSSSSSSSSSSSSSSSSSSSSSZSSSSPPSSPPPPPPPPPPPPPPPPPPPPPPPPPPPPPPPPPPPPPPPPPPPPPPPPPPPPSSPPGPSSPGGGGGGGGGGGGGGGGGGGGGGGGGGGGGGGGGGGGGGGGGGGGGGGGGGPSSPG\"\n",
    "    mapstrToInt = {\n",
    "      'S': 0, # Aszfaltozott út\n",
    "      'Z': 1, # Zebra\n",
    "      'P': 2, # Járda\n",
    "      'G': 3, # fű, zöld terület\n",
    "      'B': 4, # épület\n",
    "      'T': 5  # fa\n",
    "    }\n",
    "    self.mapMatrix = np.array([mapstrToInt[x] for x in list(mapstr)]).reshape(60,60)\n",
    "    \n",
    "    self.started = False\n",
    "    self.last_response = None   \n",
    "  \n",
    "  def get_response(self):\n",
    "    if not self.started:\n",
    "      raise RuntimeError(\"Game not started yet.\")\n",
    "    data = self.socket.recv(self.buffersize)\n",
    "    self.last_response = json.loads(data.decode())\n",
    "    if len(self.last_response['messages']) > 0:\n",
    "      #self.close()\n",
    "      raise ValueError(\"Messages array is not empty:\\n {}\".format(self.last_response['messages']))\n",
    "    \n",
    "    self.tick_data = self.last_response\n",
    "    self.game_id = self.tick_data['request_id']['game_id']\n",
    "    self.ticknum = self.tick_data['request_id']['tick']\n",
    "    self.car_id = self.tick_data['request_id']['car_id']\n",
    "    \n",
    "    \n",
    "  def start(self):\n",
    "    if self.started == True:\n",
    "      raise RuntimeError(\"Game already started.\")\n",
    "      \n",
    "    self.socket.connect((self.tcp_ip, self.tcp_port))\n",
    "    self.started = True\n",
    "    \n",
    "    # Send first messsage\n",
    "    first_message = {\n",
    "      \"token\": self.team_token\n",
    "    }\n",
    "    first_message = json.dumps(first_message).encode()\n",
    "    \n",
    "    self.socket.send(first_message)\n",
    "    self.get_response()\n",
    "    return\n",
    "    \n",
    "  def close(self):\n",
    "    if self.started == False:\n",
    "      print_t(\"Game already closed.\")\n",
    "    self.socket.close()\n",
    "    self.started = False\n",
    "    return\n",
    "  \n",
    "  def draw_map(self):\n",
    "    plt.figure(figsize=(8,8), dpi=112)\n",
    "    plt.imshow(g.mapMatrix)\n",
    "\n",
    "  def send_random_command(self):\n",
    "    # Build answer\n",
    "    ans = {\"response_id\":\n",
    "           {\"game_id\": self.game_id, \"tick\": self.tick, \"car_id\": self.car_id},\n",
    "           \"command\": np.random.choice(self.valid_commands)\n",
    "          }\n",
    "    self.socket.send(json.dumps(ans).encode())\n",
    "    self.get_response()\n",
    "    return\n",
    "    "
   ]
  },
  {
   "cell_type": "code",
   "execution_count": 4,
   "metadata": {},
   "outputs": [],
   "source": [
    "\"\"\"\n",
    "  Implement a class that rewards the DQN agent\n",
    "\"\"\"\n",
    "class SimpleRewarder:\n",
    "  pass"
   ]
  },
  {
   "cell_type": "code",
   "execution_count": 33,
   "metadata": {},
   "outputs": [],
   "source": [
    "\"\"\"\n",
    "  Implement a class that can generate a state-space for the DQN based on tick data from server\n",
    "\"\"\"\n",
    "class SimpleStateSpace:\n",
    "  def __init__(self):\n",
    "    self.viewArea = [\n",
    "    \"         \",\n",
    "    \"   XXX   \",\n",
    "    \"   XXX   \",\n",
    "    \"   XXX   \",\n",
    "    \"   XXX   \",\n",
    "    \"  XXXXX  \",\n",
    "    \" XXXXXXX \",\n",
    "    \" XXXXXXX \",\n",
    "    \" XXXCXXX \",\n",
    "    \"  XXXXX  \",\n",
    "    \"   XXX   \",\n",
    "    \"    X    \",\n",
    "    \"         \"]\n",
    "    \n",
    "    \"\"\" THIS FUNCTION IS TESTED \"\"\"\n",
    "    def _viewCoordsFromViewArea():\n",
    "      carCoords = None\n",
    "      seenCoords = []\n",
    "      for y in range(len(self.viewArea)):\n",
    "        line = list(self.viewArea[y])\n",
    "        for x in range(len(line)):\n",
    "          if line[x]=='C':\n",
    "            carCoords = np.array([x,y])\n",
    "          if line[x]=='X':\n",
    "            seenCoords.append([x,y])\n",
    "      return np.array([[c[0] - carCoords[0], c[1]-carCoords[1]] for c in seenCoords])\n",
    "    \n",
    "    self.viewAreaCoords = _viewCoordsFromViewArea()\n",
    "    self.directionCodes = {\n",
    "      # 0 is for no car\n",
    "      'UP': 1,\n",
    "      'DOWN': 2,\n",
    "      'LEFT': 3,\n",
    "      'RIGHT': 4\n",
    "    }\n",
    "    pass\n",
    "  \n",
    "  \"\"\"\n",
    "    Get the coordinates of seen points relative to the car coordinates\n",
    "    THIS FUNCTION IS TESTED\n",
    "  \"\"\"\n",
    "  def relativeViewCoordsForDirection(self, d):\n",
    "    def rmatrix(phi):\n",
    "      return np.array([[np.cos(phi), -np.sin(phi)], [np.sin(phi), np.cos(phi)]])\n",
    "    \n",
    "    def dotnround(M, x):\n",
    "      return np.round(M.dot(x)).astype(int)\n",
    "    \n",
    "    \n",
    "    if d == 'UP':\n",
    "      return self.viewAreaCoords\n",
    "    elif d == 'DOWN':\n",
    "      rotated = []\n",
    "      R = rmatrix(np.pi)\n",
    "      for c in self.viewAreaCoords:\n",
    "        rotated.append(dotnround(R, c))\n",
    "      return np.array(rotated)\n",
    "    elif d == 'LEFT':\n",
    "      rotated = []\n",
    "      R = rmatrix(-np.pi/2.0)\n",
    "      for c in self.viewAreaCoords:\n",
    "        rotated.append(dotnround(R, c))\n",
    "      return np.array(rotated)\n",
    "    elif d == 'RIGHT':\n",
    "      rotated = []\n",
    "      R = rmatrix(np.pi/2.0)\n",
    "      for c in self.viewAreaCoords:\n",
    "        rotated.append(dotnround(R, c))\n",
    "      return np.array(rotated)\n",
    "    else: \n",
    "      raise ValueError(\"Invalid direction: \"+d)\n",
    "  \n",
    "  \"\"\"\n",
    "    Build the state of the system, based on the current tick stored in game\n",
    "  \"\"\"\n",
    "  def stateFromTick(self, game):\n",
    "    if len(game.tick_data['cars'])>0:\n",
    "      self.myCar = [c for c in game.tick_data['cars'] if c['id']==game.car_id][0]\n",
    "    \n",
    "    print_t(\"My car is {}\".format(self.myCar))\n",
    "    \n",
    "    # This is the state of the system that should be returned\n",
    "    self.state = []\n",
    "    \n",
    "    # Check if the point is off the map\n",
    "    def isOffMap(point):\n",
    "      if point[0]<0 or point[0]>=60 or point[1]<0 or point[1]>=60:\n",
    "        return True\n",
    "      return False\n",
    "    \n",
    "    # Check if a car is on the point\n",
    "    def carOnPoint(point):\n",
    "      if len(game.tick_data['cars'])>=2:\n",
    "        for car in game.tick_data['cars']:\n",
    "          if car['pos']['x'] == point[0] and car['pos']['y'] == point[1]:\n",
    "            return {\"satus\": True, \"car\": car}\n",
    "        return {\"satus\": True, \"car\": None}\n",
    "      return {\"satus\": True, \"car\": None}\n",
    "    \n",
    "    # Check if a pedestrian is on the point\n",
    "    def pedestrianOnPoint(point):\n",
    "      pass\n",
    "    \n",
    "    # Check if a passenger is on the point\n",
    "    def passengerOnPoint(point):\n",
    "      pass\n",
    "    \n",
    "    # Iterate over all points seen by car\n",
    "    relSeenCoords = self.relativeViewCoordsForDirection(self.myCar['direction'])\n",
    "    for k in range(len(relSeenCoords)):\n",
    "      mapPoint = [relSeenCoords[k][0]+self.myCar['pos']['x'],\n",
    "                  relSeenCoords[k][1]+self.myCar['pos']['y']]\n",
    "      \n",
    "      car = carOnPoint(mapPoint)\n",
    "      carDir = 0 if car['status']==False else self.directionCodes[car['car']['direction']]\n",
    "      carSpeed = -1 if car['status']==False else car['car']['speed']\n",
    "      \n",
    "      ped = pedestrianOnPoint(mapPoint)\n",
    "      pas = passengerOnPoint(mapPoint)\n",
    "      \n",
    "      stateOfPoint = [\n",
    "        game.mapMatrix[mapPoint[0]][mapPoint[1]], # What is the color of this point\n",
    "        car['status'], # Is there any car on this point?\n",
    "        carDir,\n",
    "        \n",
    "      ] \n",
    "    pass"
   ]
  },
  {
   "cell_type": "code",
   "execution_count": 28,
   "metadata": {},
   "outputs": [
    {
     "name": "stdout",
     "output_type": "stream",
     "text": [
      "[2019-04-09 12:59:13] Game id: 6751\n",
      "[2019-04-09 12:59:13] My car is {'life': 100, 'transported': 0, 'speed': 0, 'direction': 'UP', 'command': '0', 'id': 0, 'pos': {'x': 56, 'y': 43}}\n"
     ]
    }
   ],
   "source": [
    "## Test section\n",
    "g = CCGame()\n",
    "g.start()\n",
    "\n",
    "print_t(\"Game id: {}\".format(g.game_id))\n",
    "ss = SimpleStateSpace()\n",
    "ss.stateFromTick(g)\n",
    "g.close()"
   ]
  },
  {
   "cell_type": "code",
   "execution_count": 29,
   "metadata": {},
   "outputs": [
    {
     "data": {
      "text/plain": [
       "array([[ 1,  7],\n",
       "       [ 0,  7],\n",
       "       [-1,  7],\n",
       "       [ 1,  6],\n",
       "       [ 0,  6],\n",
       "       [-1,  6],\n",
       "       [ 1,  5],\n",
       "       [ 0,  5],\n",
       "       [-1,  5],\n",
       "       [ 1,  4],\n",
       "       [ 0,  4],\n",
       "       [-1,  4],\n",
       "       [ 2,  3],\n",
       "       [ 1,  3],\n",
       "       [ 0,  3],\n",
       "       [-1,  3],\n",
       "       [-2,  3],\n",
       "       [ 3,  2],\n",
       "       [ 2,  2],\n",
       "       [ 1,  2],\n",
       "       [ 0,  2],\n",
       "       [-1,  2],\n",
       "       [-2,  2],\n",
       "       [-3,  2],\n",
       "       [ 3,  1],\n",
       "       [ 2,  1],\n",
       "       [ 1,  1],\n",
       "       [ 0,  1],\n",
       "       [-1,  1],\n",
       "       [-2,  1],\n",
       "       [-3,  1],\n",
       "       [ 3,  0],\n",
       "       [ 2,  0],\n",
       "       [ 1,  0],\n",
       "       [-1,  0],\n",
       "       [-2,  0],\n",
       "       [-3,  0],\n",
       "       [ 2, -1],\n",
       "       [ 1, -1],\n",
       "       [ 0, -1],\n",
       "       [-1, -1],\n",
       "       [-2, -1],\n",
       "       [ 1, -2],\n",
       "       [ 0, -2],\n",
       "       [-1, -2],\n",
       "       [ 0, -3]])"
      ]
     },
     "execution_count": 29,
     "metadata": {},
     "output_type": "execute_result"
    }
   ],
   "source": [
    "ss.relativeViewCoordsForDirection('DOWN')"
   ]
  },
  {
   "cell_type": "code",
   "execution_count": null,
   "metadata": {},
   "outputs": [],
   "source": [
    "\"\"\" TODO: As a baseline project, go to a certain point without dying. Use networkx\n",
    "to find the shortest path to the point.\n",
    "\"\"\""
   ]
  },
  {
   "cell_type": "code",
   "execution_count": null,
   "metadata": {},
   "outputs": [],
   "source": [
    "a=[{\"id\": 2, \"life\": 100}, {\"id\": 0, \"life\":80}]\n",
    "list(filter(lambda x: x[\"id\"]==0, a))"
   ]
  },
  {
   "cell_type": "code",
   "execution_count": null,
   "metadata": {},
   "outputs": [],
   "source": [
    "len('kutya')"
   ]
  },
  {
   "cell_type": "code",
   "execution_count": null,
   "metadata": {},
   "outputs": [],
   "source": [
    "jsonstr = '[{\"x\":-1,\"y\":-7},{\"x\":0,\"y\":-7},{\"x\":1,\"y\":-7},{\"x\":-1,\"y\":-6},{\"x\":0,\"y\":-6},{\"x\":1,\"y\":-6},{\"x\":-1,\"y\":-5},{\"x\":0,\"y\":-5},{\"x\":1,\"y\":-5},{\"x\":-1,\"y\":-4},{\"x\":0,\"y\":-4},{\"x\":1,\"y\":-4},{\"x\":-2,\"y\":-3},{\"x\":-1,\"y\":-3},{\"x\":0,\"y\":-3},{\"x\":1,\"y\":-3},{\"x\":2,\"y\":-3},{\"x\":-3,\"y\":-2},{\"x\":-2,\"y\":-2},{\"x\":-1,\"y\":-2},{\"x\":0,\"y\":-2},{\"x\":1,\"y\":-2},{\"x\":2,\"y\":-2},{\"x\":3,\"y\":-2},{\"x\":-3,\"y\":-1},{\"x\":-2,\"y\":-1},{\"x\":-1,\"y\":-1},{\"x\":0,\"y\":-1},{\"x\":1,\"y\":-1},{\"x\":2,\"y\":-1},{\"x\":3,\"y\":-1},{\"x\":-3,\"y\":0},{\"x\":-2,\"y\":0},{\"x\":-1,\"y\":0},{\"x\":1,\"y\":0},{\"x\":2,\"y\":0},{\"x\":3,\"y\":0},{\"x\":-2,\"y\":1},{\"x\":-1,\"y\":1},{\"x\":0,\"y\":1},{\"x\":1,\"y\":1},{\"x\":2,\"y\":1},{\"x\":-1,\"y\":2},{\"x\":0,\"y\":2},{\"x\":1,\"y\":2},{\"x\":0,\"y\":3}]'"
   ]
  },
  {
   "cell_type": "code",
   "execution_count": null,
   "metadata": {},
   "outputs": [],
   "source": [
    "data = json.loads(jsonstr)"
   ]
  },
  {
   "cell_type": "code",
   "execution_count": null,
   "metadata": {},
   "outputs": [],
   "source": [
    "[data[k]['x'] == ss.viewAreaCoords[k][0] and data[k]['y']==ss.viewAreaCoords[k][1] for k in range(len(ss.viewAreaCoords))]"
   ]
  },
  {
   "cell_type": "code",
   "execution_count": null,
   "metadata": {},
   "outputs": [],
   "source": [
    "np.round([0.991, 0.0001]).astype(int)"
   ]
  },
  {
   "cell_type": "code",
   "execution_count": 19,
   "metadata": {},
   "outputs": [
    {
     "data": {
      "text/plain": [
       "'190409d12h47m15'"
      ]
     },
     "execution_count": 19,
     "metadata": {},
     "output_type": "execute_result"
    }
   ],
   "source": []
  },
  {
   "cell_type": "code",
   "execution_count": 32,
   "metadata": {},
   "outputs": [
    {
     "data": {
      "text/plain": [
       "'UP'"
      ]
     },
     "execution_count": 32,
     "metadata": {},
     "output_type": "execute_result"
    }
   ],
   "source": [
    "#x = {\"status\": False, \"car\": None}\n",
    "x = {\"status\": True, \"car\": {\"direction\": \"UP\"}}\n",
    "\n",
    "0 if x['status']==False else x['car']['direction']"
   ]
  },
  {
   "cell_type": "code",
   "execution_count": null,
   "metadata": {},
   "outputs": [],
   "source": []
  }
 ],
 "metadata": {
  "kernelspec": {
   "display_name": "Python 3",
   "language": "python",
   "name": "python3"
  },
  "language_info": {
   "codemirror_mode": {
    "name": "ipython",
    "version": 3
   },
   "file_extension": ".py",
   "mimetype": "text/x-python",
   "name": "python",
   "nbconvert_exporter": "python",
   "pygments_lexer": "ipython3",
   "version": "3.6.7"
  }
 },
 "nbformat": 4,
 "nbformat_minor": 2
}
