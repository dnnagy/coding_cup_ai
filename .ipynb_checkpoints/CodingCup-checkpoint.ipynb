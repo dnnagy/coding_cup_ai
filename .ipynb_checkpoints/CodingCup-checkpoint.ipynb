{
 "cells": [
  {
   "cell_type": "code",
   "execution_count": 1,
   "metadata": {},
   "outputs": [],
   "source": [
    "from common_functions import *\n",
    "from game import CCGame\n",
    "from state import StateSpace\n",
    "from rewarder import Rewarder\n",
    "\n",
    "plt.rcParams['axes.facecolor'] = '#323A48'\n",
    "plt.rcParams['axes.edgecolor'] = '#92A2BD'\n",
    "plt.rcParams['figure.facecolor'] = '#323A48'\n",
    "plt.rcParams['text.color'] = '#DBE1EA'\n",
    "plt.rcParams['xtick.color'] = '#DBE1EA'\n",
    "plt.rcParams['ytick.color'] = '#DBE1EA'\n",
    "plt.rcParams['grid.linestyle'] = ':'\n",
    "plt.rcParams['grid.color'] = '#3F495A'\n",
    "\n",
    "from cycler import cycler\n",
    "plt.rcParams['axes.prop_cycle'] = cycler(color=['c', 'goldenrod', 'mediumseagreen', 'blueviolet', 'indianred', 'mediumpurple', 'cornflowerblue',\n",
    "                                               'darkorchid', 'gold', 'olivedrab'])"
   ]
  },
  {
   "cell_type": "code",
   "execution_count": 2,
   "metadata": {
    "scrolled": true
   },
   "outputs": [
    {
     "name": "stdout",
     "output_type": "stream",
     "text": [
      "[2019-04-15 16:50:09] Game id: 20865\n",
      "[2019-04-15 16:50:09] Tick data: \n",
      "{'passengers': [{'dest_pos': {'x': 47, 'y': 22}, 'id': 16, 'pos': {'x': 1, 'y': 6}}, {'dest_pos': {'x': 20, 'y': 1}, 'id': 17, 'pos': {'x': 23, 'y': 28}}, {'dest_pos': {'x': 52, 'y': 19}, 'id': 18, 'pos': {'x': 41, 'y': 38}}, {'dest_pos': {'x': 33, 'y': 28}, 'id': 19, 'pos': {'x': 43, 'y': 48}}, {'dest_pos': {'x': 20, 'y': 55}, 'id': 20, 'pos': {'x': 12, 'y': 17}}], 'pedestrians': [], 'cars': [{'life': 100, 'transported': 0, 'speed': 1, 'direction': 'UP', 'command': '-', 'id': 0, 'pos': {'x': 7, 'y': 41}}], 'request_id': {'tick': 2, 'car_id': 0, 'game_id': 20865}, 'messages': []}\n",
      "[2019-04-15 16:50:09] Tick log (3 entries): \n",
      "[{'passengers': [{'dest_pos': {'x': 47, 'y': 22}, 'id': 16, 'pos': {'x': 1, 'y': 6}}, {'dest_pos': {'x': 20, 'y': 1}, 'id': 17, 'pos': {'x': 23, 'y': 28}}, {'dest_pos': {'x': 52, 'y': 19}, 'id': 18, 'pos': {'x': 41, 'y': 38}}, {'dest_pos': {'x': 33, 'y': 28}, 'id': 19, 'pos': {'x': 43, 'y': 48}}, {'dest_pos': {'x': 20, 'y': 55}, 'id': 20, 'pos': {'x': 12, 'y': 17}}], 'pedestrians': [], 'cars': [{'life': 100, 'transported': 0, 'speed': 0, 'direction': 'UP', 'command': '0', 'id': 0, 'pos': {'x': 7, 'y': 42}}], 'request_id': {'tick': 0, 'car_id': 0, 'game_id': 20865}, 'messages': []}, {'passengers': [{'dest_pos': {'x': 47, 'y': 22}, 'id': 16, 'pos': {'x': 1, 'y': 6}}, {'dest_pos': {'x': 20, 'y': 1}, 'id': 17, 'pos': {'x': 23, 'y': 28}}, {'dest_pos': {'x': 52, 'y': 19}, 'id': 18, 'pos': {'x': 41, 'y': 38}}, {'dest_pos': {'x': 33, 'y': 28}, 'id': 19, 'pos': {'x': 43, 'y': 48}}, {'dest_pos': {'x': 20, 'y': 55}, 'id': 20, 'pos': {'x': 12, 'y': 17}}], 'pedestrians': [], 'cars': [{'life': 100, 'transported': 0, 'speed': 0, 'direction': 'UP', 'command': '+', 'id': 0, 'pos': {'x': 7, 'y': 42}}], 'request_id': {'tick': 1, 'car_id': 0, 'game_id': 20865}, 'messages': []}, {'passengers': [{'dest_pos': {'x': 47, 'y': 22}, 'id': 16, 'pos': {'x': 1, 'y': 6}}, {'dest_pos': {'x': 20, 'y': 1}, 'id': 17, 'pos': {'x': 23, 'y': 28}}, {'dest_pos': {'x': 52, 'y': 19}, 'id': 18, 'pos': {'x': 41, 'y': 38}}, {'dest_pos': {'x': 33, 'y': 28}, 'id': 19, 'pos': {'x': 43, 'y': 48}}, {'dest_pos': {'x': 20, 'y': 55}, 'id': 20, 'pos': {'x': 12, 'y': 17}}], 'pedestrians': [], 'cars': [{'life': 100, 'transported': 0, 'speed': 1, 'direction': 'UP', 'command': '-', 'id': 0, 'pos': {'x': 7, 'y': 41}}], 'request_id': {'tick': 2, 'car_id': 0, 'game_id': 20865}, 'messages': []}]\n"
     ]
    }
   ],
   "source": [
    "## Test section\n",
    "g = CCGame(log_ticks=False)\n",
    "ss = StateSpace()\n",
    "rewarder = Rewarder()\n",
    "g.start()\n",
    "state = ss.stateFromTick(g.car_id, g.tick_data, g.mapMatrix)\n",
    "g.send_random_command()\n",
    "reward = \n",
    "g.close()\n",
    "\n",
    "print_t(\"Game id: {}\".format(g.game_id))"
   ]
  },
  {
   "cell_type": "code",
   "execution_count": 3,
   "metadata": {},
   "outputs": [
    {
     "data": {
      "text/plain": [
       "0"
      ]
     },
     "execution_count": 3,
     "metadata": {},
     "output_type": "execute_result"
    }
   ],
   "source": [
    "carid = g.car_id\n",
    "carid"
   ]
  },
  {
   "cell_type": "code",
   "execution_count": 17,
   "metadata": {
    "scrolled": true
   },
   "outputs": [
    {
     "data": {
      "text/plain": [
       "{'thick': {'cars': [{'life': 100,\n",
       "    'transported': 0,\n",
       "    'speed': 0,\n",
       "    'direction': '^',\n",
       "    'command': '0',\n",
       "    'id': 0,\n",
       "    'pos': {'x': 35, 'y': 43, 'i': 43, 'j': 35},\n",
       "    'futureCar': {'life': 100,\n",
       "     'transported': 0,\n",
       "     'speed': 0,\n",
       "     'direction': '^',\n",
       "     'command': '0',\n",
       "     'id': 0,\n",
       "     'pos': {'x': 35, 'y': 43, 'i': 43, 'j': 35}},\n",
       "    'distanceToNode': 1,\n",
       "    'directionToNode': '>',\n",
       "    'nextNodesDirection': '^'}],\n",
       "  'passengers': [{'dest_pos': {'x': 1, 'y': 17},\n",
       "    'id': 16,\n",
       "    'pos': {'x': 34, 'y': 14, 'i': 14, 'j': 34}},\n",
       "   {'dest_pos': {'x': 12, 'y': 12},\n",
       "    'id': 17,\n",
       "    'pos': {'x': 39, 'y': 9, 'i': 9, 'j': 39}},\n",
       "   {'dest_pos': {'x': 6, 'y': 24, 'i': 24, 'j': 6},\n",
       "    'id': 18,\n",
       "    'pos': {'x': 41, 'y': 19, 'i': 19, 'j': 41}},\n",
       "   {'dest_pos': {'x': 44, 'y': 26},\n",
       "    'id': 19,\n",
       "    'pos': {'x': 31, 'y': 9, 'i': 9, 'j': 31}},\n",
       "   {'dest_pos': {'x': 41, 'y': 43},\n",
       "    'id': 20,\n",
       "    'pos': {'x': 38, 'y': 16, 'i': 16, 'j': 38}}],\n",
       "  'request_id': {'tick': 0, 'game_id': 9327, 'car_id': 0},\n",
       "  'pedestrians': [],\n",
       "  'messages': []},\n",
       " 'step': {'response_id': {'game_id': 9327, 'tick': 0, 'car_id': 0},\n",
       "  'command': 'CAR_INDEX_RIGHT'},\n",
       " 'info': {'route': []}}"
      ]
     },
     "execution_count": 17,
     "metadata": {},
     "output_type": "execute_result"
    }
   ],
   "source": [
    "import json\n",
    "logdir = '/Users/nagydaniel/Documents/Munka/asseco/coding_cup/logs/'\n",
    "log_9327 = open(logdir + 'log_9327').read()\n",
    "log_9327 = json.loads(log_9327)\n",
    "log_9327[0]"
   ]
  },
  {
   "cell_type": "code",
   "execution_count": 19,
   "metadata": {},
   "outputs": [
    {
     "name": "stdout",
     "output_type": "stream",
     "text": [
      "[2019-04-15 16:57:08] My car is {'life': 100, 'transported': 0, 'speed': 0, 'direction': '^', 'command': '0', 'id': 0, 'pos': {'x': 35, 'y': 43, 'i': 43, 'j': 35}, 'futureCar': {'life': 100, 'transported': 0, 'speed': 0, 'direction': '^', 'command': '0', 'id': 0, 'pos': {'x': 35, 'y': 43, 'i': 43, 'j': 35}}, 'distanceToNode': 1, 'directionToNode': '>', 'nextNodesDirection': '^'}\n"
     ]
    },
    {
     "ename": "ValueError",
     "evalue": "Invalid direction: ^",
     "output_type": "error",
     "traceback": [
      "\u001b[0;31m---------------------------------------------------------------------------\u001b[0m",
      "\u001b[0;31mValueError\u001b[0m                                Traceback (most recent call last)",
      "\u001b[0;32m<ipython-input-19-0603d93694f8>\u001b[0m in \u001b[0;36m<module>\u001b[0;34m\u001b[0m\n\u001b[1;32m      1\u001b[0m \u001b[0mss\u001b[0m \u001b[0;34m=\u001b[0m \u001b[0mStateSpace\u001b[0m\u001b[0;34m(\u001b[0m\u001b[0;34m)\u001b[0m\u001b[0;34m\u001b[0m\u001b[0;34m\u001b[0m\u001b[0m\n\u001b[0;32m----> 2\u001b[0;31m \u001b[0mstate\u001b[0m \u001b[0;34m=\u001b[0m \u001b[0mss\u001b[0m\u001b[0;34m.\u001b[0m\u001b[0mstateFromTick\u001b[0m\u001b[0;34m(\u001b[0m\u001b[0mcarid\u001b[0m\u001b[0;34m,\u001b[0m \u001b[0mlog_9327\u001b[0m\u001b[0;34m[\u001b[0m\u001b[0;36m0\u001b[0m\u001b[0;34m]\u001b[0m\u001b[0;34m[\u001b[0m\u001b[0;34m'thick'\u001b[0m\u001b[0;34m]\u001b[0m\u001b[0;34m,\u001b[0m \u001b[0mg\u001b[0m\u001b[0;34m.\u001b[0m\u001b[0mmapMatrix\u001b[0m\u001b[0;34m)\u001b[0m\u001b[0;34m\u001b[0m\u001b[0;34m\u001b[0m\u001b[0m\n\u001b[0m\u001b[1;32m      3\u001b[0m \u001b[0mstate\u001b[0m\u001b[0;34m\u001b[0m\u001b[0;34m\u001b[0m\u001b[0m\n",
      "\u001b[0;32m~/Documents/Munka/asseco/coding_cup_ai/state.py\u001b[0m in \u001b[0;36mstateFromTick\u001b[0;34m(self, myCarId, tickData, mapMatrix)\u001b[0m\n\u001b[1;32m    127\u001b[0m \u001b[0;34m\u001b[0m\u001b[0m\n\u001b[1;32m    128\u001b[0m     \u001b[0;31m# Iterate over all points seen by car\u001b[0m\u001b[0;34m\u001b[0m\u001b[0;34m\u001b[0m\u001b[0;34m\u001b[0m\u001b[0m\n\u001b[0;32m--> 129\u001b[0;31m     \u001b[0mrelSeenCoords\u001b[0m \u001b[0;34m=\u001b[0m \u001b[0mself\u001b[0m\u001b[0;34m.\u001b[0m\u001b[0mrelativeViewCoordsForDirection\u001b[0m\u001b[0;34m(\u001b[0m\u001b[0mself\u001b[0m\u001b[0;34m.\u001b[0m\u001b[0mmyCar\u001b[0m\u001b[0;34m[\u001b[0m\u001b[0;34m'direction'\u001b[0m\u001b[0;34m]\u001b[0m\u001b[0;34m)\u001b[0m\u001b[0;34m\u001b[0m\u001b[0;34m\u001b[0m\u001b[0m\n\u001b[0m\u001b[1;32m    130\u001b[0m     \u001b[0;32mfor\u001b[0m \u001b[0mk\u001b[0m \u001b[0;32min\u001b[0m \u001b[0mrange\u001b[0m\u001b[0;34m(\u001b[0m\u001b[0mlen\u001b[0m\u001b[0;34m(\u001b[0m\u001b[0mrelSeenCoords\u001b[0m\u001b[0;34m)\u001b[0m\u001b[0;34m)\u001b[0m\u001b[0;34m:\u001b[0m\u001b[0;34m\u001b[0m\u001b[0;34m\u001b[0m\u001b[0m\n\u001b[1;32m    131\u001b[0m       mapPoint = [relSeenCoords[k][0]+self.myCar['pos']['x'],\n",
      "\u001b[0;32m~/Documents/Munka/asseco/coding_cup_ai/state.py\u001b[0m in \u001b[0;36mrelativeViewCoordsForDirection\u001b[0;34m(self, d)\u001b[0m\n\u001b[1;32m     79\u001b[0m       \u001b[0;32mreturn\u001b[0m \u001b[0mnp\u001b[0m\u001b[0;34m.\u001b[0m\u001b[0marray\u001b[0m\u001b[0;34m(\u001b[0m\u001b[0mrotated\u001b[0m\u001b[0;34m)\u001b[0m\u001b[0;34m\u001b[0m\u001b[0;34m\u001b[0m\u001b[0m\n\u001b[1;32m     80\u001b[0m     \u001b[0;32melse\u001b[0m\u001b[0;34m:\u001b[0m\u001b[0;34m\u001b[0m\u001b[0;34m\u001b[0m\u001b[0m\n\u001b[0;32m---> 81\u001b[0;31m       \u001b[0;32mraise\u001b[0m \u001b[0mValueError\u001b[0m\u001b[0;34m(\u001b[0m\u001b[0;34m\"Invalid direction: \"\u001b[0m\u001b[0;34m+\u001b[0m\u001b[0md\u001b[0m\u001b[0;34m)\u001b[0m\u001b[0;34m\u001b[0m\u001b[0;34m\u001b[0m\u001b[0m\n\u001b[0m\u001b[1;32m     82\u001b[0m \u001b[0;34m\u001b[0m\u001b[0m\n\u001b[1;32m     83\u001b[0m   \"\"\"\n",
      "\u001b[0;31mValueError\u001b[0m: Invalid direction: ^"
     ]
    }
   ],
   "source": [
    "ss = StateSpace()\n",
    "state = ss.stateFromTick(carid, log_9327[0]['thick'], g.mapMatrix)\n",
    "state"
   ]
  },
  {
   "cell_type": "code",
   "execution_count": null,
   "metadata": {},
   "outputs": [],
   "source": [
    "rewarder = Rewarder()\n",
    "def testGameTime():\n",
    "  g = CCGame()\n",
    "  g.start()\n",
    "  while not g.crashed:\n",
    "    g.send_random_command()\n",
    "    print_t(\"Reward: {}\".format(rewarder.calculate_reward(g)))\n",
    "  print_t(\"ticks: {}\".format(g.ticknum))\n",
    "  g.close()\n",
    "  return"
   ]
  },
  {
   "cell_type": "code",
   "execution_count": null,
   "metadata": {
    "scrolled": true
   },
   "outputs": [],
   "source": [
    "testGameTime()"
   ]
  },
  {
   "cell_type": "code",
   "execution_count": null,
   "metadata": {},
   "outputs": [],
   "source": [
    "%%timeit\n",
    "testGameTime()"
   ]
  },
  {
   "cell_type": "code",
   "execution_count": null,
   "metadata": {},
   "outputs": [],
   "source": [
    "\"\"\" TODO: As a baseline project, go to a certain point without dying. Use networkx\n",
    "to find the shortest path to the point.\n",
    "\"\"\""
   ]
  },
  {
   "cell_type": "code",
   "execution_count": null,
   "metadata": {},
   "outputs": [],
   "source": [
    "a=[{\"id\": 2, \"life\": 100}, {\"id\": 0, \"life\":80}]\n",
    "list(filter(lambda x: x[\"id\"]==0, a))"
   ]
  },
  {
   "cell_type": "code",
   "execution_count": null,
   "metadata": {},
   "outputs": [],
   "source": [
    "jsonstr = '[{\"x\":-1,\"y\":-7},{\"x\":0,\"y\":-7},{\"x\":1,\"y\":-7},{\"x\":-1,\"y\":-6},{\"x\":0,\"y\":-6},{\"x\":1,\"y\":-6},{\"x\":-1,\"y\":-5},{\"x\":0,\"y\":-5},{\"x\":1,\"y\":-5},{\"x\":-1,\"y\":-4},{\"x\":0,\"y\":-4},{\"x\":1,\"y\":-4},{\"x\":-2,\"y\":-3},{\"x\":-1,\"y\":-3},{\"x\":0,\"y\":-3},{\"x\":1,\"y\":-3},{\"x\":2,\"y\":-3},{\"x\":-3,\"y\":-2},{\"x\":-2,\"y\":-2},{\"x\":-1,\"y\":-2},{\"x\":0,\"y\":-2},{\"x\":1,\"y\":-2},{\"x\":2,\"y\":-2},{\"x\":3,\"y\":-2},{\"x\":-3,\"y\":-1},{\"x\":-2,\"y\":-1},{\"x\":-1,\"y\":-1},{\"x\":0,\"y\":-1},{\"x\":1,\"y\":-1},{\"x\":2,\"y\":-1},{\"x\":3,\"y\":-1},{\"x\":-3,\"y\":0},{\"x\":-2,\"y\":0},{\"x\":-1,\"y\":0},{\"x\":1,\"y\":0},{\"x\":2,\"y\":0},{\"x\":3,\"y\":0},{\"x\":-2,\"y\":1},{\"x\":-1,\"y\":1},{\"x\":0,\"y\":1},{\"x\":1,\"y\":1},{\"x\":2,\"y\":1},{\"x\":-1,\"y\":2},{\"x\":0,\"y\":2},{\"x\":1,\"y\":2},{\"x\":0,\"y\":3}]'"
   ]
  },
  {
   "cell_type": "code",
   "execution_count": null,
   "metadata": {},
   "outputs": [],
   "source": [
    "data = json.loads(jsonstr)"
   ]
  },
  {
   "cell_type": "code",
   "execution_count": null,
   "metadata": {},
   "outputs": [],
   "source": [
    "[data[k]['x'] == ss.viewAreaCoords[k][0] and data[k]['y']==ss.viewAreaCoords[k][1] for k in range(len(ss.viewAreaCoords))]"
   ]
  },
  {
   "cell_type": "code",
   "execution_count": null,
   "metadata": {},
   "outputs": [],
   "source": [
    "np.round([0.991, 0.0001]).astype(int)"
   ]
  },
  {
   "cell_type": "code",
   "execution_count": null,
   "metadata": {},
   "outputs": [],
   "source": []
  },
  {
   "cell_type": "code",
   "execution_count": null,
   "metadata": {},
   "outputs": [],
   "source": [
    "#x = {\"status\": False, \"car\": None}\n",
    "x = {\"status\": True, \"car\": {\"direction\": \"UP\"}}\n",
    "\n",
    "0 if x['status']==False else x['car']['direction']"
   ]
  },
  {
   "cell_type": "code",
   "execution_count": null,
   "metadata": {},
   "outputs": [],
   "source": [
    "o={\"a\": {\"b\": 2}}"
   ]
  },
  {
   "cell_type": "code",
   "execution_count": null,
   "metadata": {},
   "outputs": [],
   "source": [
    "o[\"a\"][\"b\"]"
   ]
  },
  {
   "cell_type": "code",
   "execution_count": null,
   "metadata": {},
   "outputs": [],
   "source": [
    "a = {\"p\": 1, \"q\": 3}\n",
    "b = a \n",
    "a = {\"p\":2, \"q\": 2}"
   ]
  },
  {
   "cell_type": "code",
   "execution_count": null,
   "metadata": {},
   "outputs": [],
   "source": [
    "b"
   ]
  },
  {
   "cell_type": "code",
   "execution_count": null,
   "metadata": {},
   "outputs": [],
   "source": [
    "a = ['END REASON: CRASHED', 'jsadkasjdkl']\n",
    "'crash' if 'END REASON: CRASHED' in a else 'no crash'"
   ]
  },
  {
   "cell_type": "code",
   "execution_count": null,
   "metadata": {},
   "outputs": [],
   "source": [
    "a = {\"alma\": [], \"korte\": {}}\n",
    "if (\"szar\" in a.keys() and len(a['szar']) > 0):\n",
    "  print(\"van szar\")"
   ]
  },
  {
   "cell_type": "code",
   "execution_count": null,
   "metadata": {},
   "outputs": [],
   "source": []
  }
 ],
 "metadata": {
  "kernelspec": {
   "display_name": "Python 3",
   "language": "python",
   "name": "python3"
  },
  "language_info": {
   "codemirror_mode": {
    "name": "ipython",
    "version": 3
   },
   "file_extension": ".py",
   "mimetype": "text/x-python",
   "name": "python",
   "nbconvert_exporter": "python",
   "pygments_lexer": "ipython3",
   "version": "3.6.7"
  }
 },
 "nbformat": 4,
 "nbformat_minor": 2
}
