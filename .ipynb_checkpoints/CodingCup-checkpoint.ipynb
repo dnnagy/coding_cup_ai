{
 "cells": [
  {
   "cell_type": "code",
   "execution_count": 1,
   "metadata": {},
   "outputs": [],
   "source": [
    "from common_functions import *\n",
    "from game import CCGame\n",
    "from state import StateSpace\n",
    "from rewarder import Rewarder\n",
    "from DQN import DQNAgent\n",
    "\n",
    "plt.rcParams['axes.facecolor'] = '#323A48'\n",
    "plt.rcParams['axes.edgecolor'] = '#92A2BD'\n",
    "plt.rcParams['figure.facecolor'] = '#323A48'\n",
    "plt.rcParams['text.color'] = '#DBE1EA'\n",
    "plt.rcParams['xtick.color'] = '#DBE1EA'\n",
    "plt.rcParams['ytick.color'] = '#DBE1EA'\n",
    "plt.rcParams['grid.linestyle'] = ':'\n",
    "plt.rcParams['grid.color'] = '#3F495A'\n",
    "\n",
    "from cycler import cycler\n",
    "plt.rcParams['axes.prop_cycle'] = cycler(color=['c', 'goldenrod', 'mediumseagreen', 'blueviolet', 'indianred', 'mediumpurple', 'cornflowerblue',\n",
    "                                               'darkorchid', 'gold', 'olivedrab'])"
   ]
  },
  {
   "cell_type": "code",
   "execution_count": 2,
   "metadata": {},
   "outputs": [],
   "source": [
    "def train_agent(n_games=10):\n",
    "  rewarder = Rewarder()\n",
    "  agent = DQNAgent()\n",
    "  stateSpace = StateSpace()\n",
    "  game = CCGame()\n",
    "  scores = []\n",
    "  ticks = []\n",
    "  \n",
    "  \n",
    "  for k in range(n_games):\n",
    "    # Implement epsilon-greedy algorithm\n",
    "    epsilon = 30 - k\n",
    "    rewards = []\n",
    "    game = CCGame()\n",
    "    game.start()\n",
    "    while not game.crashed:\n",
    "      state = stateSpace.stateFromTick(game.car_id, game.tick_data, game.mapMatrix)\n",
    "      if np.random.randint(0, 200) < epsilon:\n",
    "        command = agent.actions[np.random.randint(len(agent.actions))]\n",
    "      else:\n",
    "        #print_t(\"state.shape = {0}\".format(state.shape))\n",
    "        predicted = agent.network.predict(state.reshape(1, len(state)))\n",
    "        #print_t(\"predicted.shape = {0}\".format(predicted.shape))\n",
    "        command = agent.actions[np.argmax(agent.network.predict(state.reshape(1, len(state)))[0])]\n",
    "      game.send_command(command)\n",
    "      reward = rewarder.calculate_reward(game)\n",
    "      rewards.append(reward)\n",
    "      state_next = stateSpace.stateFromTick(game.car_id, game.tick_data, game.mapMatrix)\n",
    "      agent.remember(state, command, reward, state_next, done=game.crashed)\n",
    "    if game.started:\n",
    "      game.close()\n",
    "      \n",
    "    print_t(\"Game #{0} ended after {1} ticks. Total score {2}\".format(k, game.ticknum, np.sum(rewards)))\n",
    "    ticks.append(game.ticknum)\n",
    "    scores.append(np.sum(rewards))\n",
    "  return ticks, scores"
   ]
  },
  {
   "cell_type": "code",
   "execution_count": 3,
   "metadata": {},
   "outputs": [
    {
     "name": "stdout",
     "output_type": "stream",
     "text": [
      "[2019-04-21 23:15:38] CAR CRASHED.\n",
      "[2019-04-21 23:15:38] Game #0 ended after 59 ticks. Total score -99\n",
      "[2019-04-21 23:15:42] CAR CRASHED.\n",
      "[2019-04-21 23:15:42] Game #1 ended after 53 ticks. Total score -99\n",
      "[2019-04-21 23:15:47] CAR CRASHED.\n",
      "[2019-04-21 23:15:47] Game #2 ended after 75 ticks. Total score -99\n",
      "[2019-04-21 23:15:53] CAR CRASHED.\n",
      "[2019-04-21 23:15:53] Game #3 ended after 108 ticks. Total score -99\n",
      "[2019-04-21 23:15:55] CAR CRASHED.\n",
      "[2019-04-21 23:15:55] Game #4 ended after 32 ticks. Total score -99\n",
      "[2019-04-21 23:16:01] CAR CRASHED.\n",
      "[2019-04-21 23:16:01] Game #5 ended after 77 ticks. Total score -100\n",
      "[2019-04-21 23:16:02] CAR CRASHED.\n",
      "[2019-04-21 23:16:02] Game #6 ended after 16 ticks. Total score -99\n",
      "[2019-04-21 23:16:10] CAR CRASHED.\n",
      "[2019-04-21 23:16:10] Game #7 ended after 99 ticks. Total score -99\n",
      "[2019-04-21 23:16:17] CAR CRASHED.\n",
      "[2019-04-21 23:16:17] Game #8 ended after 100 ticks. Total score -99\n",
      "[2019-04-21 23:16:26] CAR CRASHED.\n",
      "[2019-04-21 23:16:26] Game #9 ended after 107 ticks. Total score -99\n",
      "[2019-04-21 23:16:30] CAR CRASHED.\n",
      "[2019-04-21 23:16:30] Game #10 ended after 57 ticks. Total score -99\n",
      "[2019-04-21 23:16:37] CAR CRASHED.\n",
      "[2019-04-21 23:16:37] Game #11 ended after 105 ticks. Total score -100\n",
      "[2019-04-21 23:16:40] CAR CRASHED.\n",
      "[2019-04-21 23:16:40] Game #12 ended after 37 ticks. Total score -99\n",
      "[2019-04-21 23:16:48] CAR CRASHED.\n",
      "[2019-04-21 23:16:48] Game #13 ended after 103 ticks. Total score -99\n",
      "[2019-04-21 23:16:55] CAR CRASHED.\n",
      "[2019-04-21 23:16:55] Game #14 ended after 104 ticks. Total score -99\n",
      "[2019-04-21 23:16:57] CAR CRASHED.\n",
      "[2019-04-21 23:16:57] Game #15 ended after 33 ticks. Total score -99\n",
      "[2019-04-21 23:17:03] CAR CRASHED.\n",
      "[2019-04-21 23:17:03] Game #16 ended after 102 ticks. Total score -99\n",
      "[2019-04-21 23:17:07] CAR CRASHED.\n",
      "[2019-04-21 23:17:07] Game #17 ended after 59 ticks. Total score -100\n",
      "[2019-04-21 23:17:13] CAR CRASHED.\n",
      "[2019-04-21 23:17:13] Game #18 ended after 98 ticks. Total score -99\n",
      "[2019-04-21 23:17:20] CAR CRASHED.\n",
      "[2019-04-21 23:17:20] Game #19 ended after 102 ticks. Total score -99\n",
      "[2019-04-21 23:17:26] CAR CRASHED.\n",
      "[2019-04-21 23:17:26] Game #20 ended after 88 ticks. Total score -100\n",
      "[2019-04-21 23:17:28] CAR CRASHED.\n",
      "[2019-04-21 23:17:28] Game #21 ended after 19 ticks. Total score -99\n",
      "[2019-04-21 23:17:35] CAR CRASHED.\n",
      "[2019-04-21 23:17:35] Game #22 ended after 105 ticks. Total score -100\n",
      "[2019-04-21 23:17:42] CAR CRASHED.\n",
      "[2019-04-21 23:17:42] Game #23 ended after 99 ticks. Total score -99\n",
      "[2019-04-21 23:17:48] CAR CRASHED.\n",
      "[2019-04-21 23:17:48] Game #24 ended after 100 ticks. Total score -99\n",
      "[2019-04-21 23:17:55] CAR CRASHED.\n",
      "[2019-04-21 23:17:55] Game #25 ended after 102 ticks. Total score -99\n",
      "[2019-04-21 23:18:02] CAR CRASHED.\n",
      "[2019-04-21 23:18:02] Game #26 ended after 103 ticks. Total score -99\n",
      "[2019-04-21 23:18:10] CAR CRASHED.\n",
      "[2019-04-21 23:18:10] Game #27 ended after 101 ticks. Total score -99\n",
      "[2019-04-21 23:18:12] CAR CRASHED.\n",
      "[2019-04-21 23:18:12] Game #28 ended after 38 ticks. Total score -99\n",
      "[2019-04-21 23:18:19] CAR CRASHED.\n",
      "[2019-04-21 23:18:19] Game #29 ended after 100 ticks. Total score -99\n",
      "[2019-04-21 23:18:25] CAR CRASHED.\n",
      "[2019-04-21 23:18:25] Game #30 ended after 102 ticks. Total score -100\n",
      "[2019-04-21 23:18:25] CAR CRASHED.\n",
      "[2019-04-21 23:18:25] Game #31 ended after 5 ticks. Total score -298\n",
      "[2019-04-21 23:18:31] CAR CRASHED.\n",
      "[2019-04-21 23:18:31] Game #32 ended after 100 ticks. Total score -99\n",
      "[2019-04-21 23:18:33] CAR CRASHED.\n",
      "[2019-04-21 23:18:33] Game #33 ended after 26 ticks. Total score -100\n",
      "[2019-04-21 23:18:39] CAR CRASHED.\n",
      "[2019-04-21 23:18:39] Game #34 ended after 102 ticks. Total score -100\n",
      "[2019-04-21 23:18:46] CAR CRASHED.\n",
      "[2019-04-21 23:18:46] Game #35 ended after 100 ticks. Total score -99\n",
      "[2019-04-21 23:18:52] CAR CRASHED.\n",
      "[2019-04-21 23:18:52] Game #36 ended after 100 ticks. Total score -99\n",
      "[2019-04-21 23:18:58] CAR CRASHED.\n",
      "[2019-04-21 23:18:58] Game #37 ended after 100 ticks. Total score -99\n",
      "[2019-04-21 23:19:05] CAR CRASHED.\n",
      "[2019-04-21 23:19:05] Game #38 ended after 100 ticks. Total score -99\n",
      "[2019-04-21 23:19:13] CAR CRASHED.\n",
      "[2019-04-21 23:19:13] Game #39 ended after 100 ticks. Total score -99\n",
      "[2019-04-21 23:19:21] CAR CRASHED.\n",
      "[2019-04-21 23:19:21] Game #40 ended after 102 ticks. Total score -100\n",
      "[2019-04-21 23:19:21] CAR CRASHED.\n",
      "[2019-04-21 23:19:21] Game #41 ended after 5 ticks. Total score -298\n",
      "[2019-04-21 23:19:23] CAR CRASHED.\n",
      "[2019-04-21 23:19:23] Game #42 ended after 26 ticks. Total score -100\n",
      "[2019-04-21 23:19:24] CAR CRASHED.\n",
      "[2019-04-21 23:19:24] Game #43 ended after 5 ticks. Total score -298\n",
      "[2019-04-21 23:19:30] CAR CRASHED.\n",
      "[2019-04-21 23:19:30] Game #44 ended after 100 ticks. Total score -99\n",
      "[2019-04-21 23:19:37] CAR CRASHED.\n",
      "[2019-04-21 23:19:37] Game #45 ended after 102 ticks. Total score -100\n",
      "[2019-04-21 23:19:37] CAR CRASHED.\n",
      "[2019-04-21 23:19:37] Game #46 ended after 5 ticks. Total score -298\n",
      "[2019-04-21 23:19:43] CAR CRASHED.\n",
      "[2019-04-21 23:19:43] Game #47 ended after 100 ticks. Total score -99\n",
      "[2019-04-21 23:19:50] CAR CRASHED.\n",
      "[2019-04-21 23:19:50] Game #48 ended after 100 ticks. Total score -99\n",
      "[2019-04-21 23:19:56] CAR CRASHED.\n",
      "[2019-04-21 23:19:56] Game #49 ended after 100 ticks. Total score -99\n"
     ]
    }
   ],
   "source": [
    "results = train_agent(50)"
   ]
  },
  {
   "cell_type": "code",
   "execution_count": 4,
   "metadata": {},
   "outputs": [
    {
     "name": "stdout",
     "output_type": "stream",
     "text": [
      "[2019-04-21 23:19:58] CAR CRASHED.\n",
      "[2019-04-21 23:19:58] ticks: 24\n",
      "[2019-04-21 23:19:58] Game already closed.\n"
     ]
    }
   ],
   "source": [
    "rewarder = Rewarder()\n",
    "agent = DQNAgent()\n",
    "stateSpace = StateSpace()\n",
    "\n",
    "def testGameTime():\n",
    "  g = CCGame()\n",
    "  g.start()\n",
    "  while not g.crashed:\n",
    "    state = stateSpace.stateFromTick(g.car_id, g.tick_data, g.mapMatrix)\n",
    "    command = g.send_random_command()\n",
    "    reward = rewarder.calculate_reward(g)\n",
    "    state_next = stateSpace.stateFromTick(g.car_id, g.tick_data, g.mapMatrix)\n",
    "    agent.remember(state, command, reward, state_next, done=g.crashed)\n",
    "  print_t(\"ticks: {}\".format(g.ticknum))\n",
    "  g.close()\n",
    "  return\n",
    "testGameTime()"
   ]
  },
  {
   "cell_type": "code",
   "execution_count": 5,
   "metadata": {},
   "outputs": [],
   "source": [
    "agent.train_on_memory()"
   ]
  },
  {
   "cell_type": "code",
   "execution_count": 6,
   "metadata": {},
   "outputs": [
    {
     "data": {
      "text/plain": [
       "array([[0.07611191, 0.06611162, 0.10531221, 0.27772307, 0.05106611,\n",
       "        0.07332172, 0.06242919, 0.14575453, 0.07525358, 0.06691611]],\n",
       "      dtype=float32)"
      ]
     },
     "execution_count": 6,
     "metadata": {},
     "output_type": "execute_result"
    }
   ],
   "source": [
    "DQNAgent().network.predict(np.random.randn(511).reshape(1, 511))"
   ]
  },
  {
   "cell_type": "code",
   "execution_count": 7,
   "metadata": {
    "scrolled": false
   },
   "outputs": [
    {
     "name": "stdout",
     "output_type": "stream",
     "text": [
      "[2019-04-21 23:20:01] CAR CRASHED.\n",
      "[2019-04-21 23:20:01] Game #0 ended after 25 ticks. Total score -98\n",
      "[2019-04-21 23:20:02] CAR CRASHED.\n",
      "[2019-04-21 23:20:02] Game #1 ended after 4 ticks. Total score -98\n",
      "[2019-04-21 23:20:02] CAR CRASHED.\n",
      "[2019-04-21 23:20:02] Game #2 ended after 9 ticks. Total score -98\n",
      "[2019-04-21 23:20:03] CAR CRASHED.\n",
      "[2019-04-21 23:20:03] Game #3 ended after 6 ticks. Total score -100\n",
      "[2019-04-21 23:20:03] CAR CRASHED.\n",
      "[2019-04-21 23:20:03] Game #4 ended after 4 ticks. Total score -98\n",
      "[2019-04-21 23:20:04] CAR CRASHED.\n",
      "[2019-04-21 23:20:04] Game #5 ended after 8 ticks. Total score -98\n",
      "[2019-04-21 23:20:04] CAR CRASHED.\n",
      "[2019-04-21 23:20:04] Game #6 ended after 8 ticks. Total score -98\n",
      "[2019-04-21 23:20:05] CAR CRASHED.\n",
      "[2019-04-21 23:20:05] Game #7 ended after 5 ticks. Total score -98\n",
      "[2019-04-21 23:20:05] CAR CRASHED.\n",
      "[2019-04-21 23:20:05] Game #8 ended after 3 ticks. Total score -98\n",
      "[2019-04-21 23:20:06] CAR CRASHED.\n",
      "[2019-04-21 23:20:06] Game #9 ended after 11 ticks. Total score -98\n"
     ]
    },
    {
     "ename": "KeyError",
     "evalue": "'car_id'",
     "output_type": "error",
     "traceback": [
      "\u001b[0;31m---------------------------------------------------------------------------\u001b[0m",
      "\u001b[0;31mKeyError\u001b[0m                                  Traceback (most recent call last)",
      "\u001b[0;32m<ipython-input-7-12997d58555d>\u001b[0m in \u001b[0;36m<module>\u001b[0;34m\u001b[0m\n\u001b[0;32m----> 1\u001b[0;31m \u001b[0mgame\u001b[0m \u001b[0;34m=\u001b[0m \u001b[0mtrain_agent\u001b[0m\u001b[0;34m(\u001b[0m\u001b[0;36m50\u001b[0m\u001b[0;34m)\u001b[0m\u001b[0;34m\u001b[0m\u001b[0;34m\u001b[0m\u001b[0m\n\u001b[0m",
      "\u001b[0;32m<ipython-input-2-1ad1d6ed6519>\u001b[0m in \u001b[0;36mtrain_agent\u001b[0;34m(n_games)\u001b[0m\n\u001b[1;32m     26\u001b[0m       \u001b[0mreward\u001b[0m \u001b[0;34m=\u001b[0m \u001b[0mrewarder\u001b[0m\u001b[0;34m.\u001b[0m\u001b[0mcalculate_reward\u001b[0m\u001b[0;34m(\u001b[0m\u001b[0mgame\u001b[0m\u001b[0;34m)\u001b[0m\u001b[0;34m\u001b[0m\u001b[0;34m\u001b[0m\u001b[0m\n\u001b[1;32m     27\u001b[0m       \u001b[0mrewards\u001b[0m\u001b[0;34m.\u001b[0m\u001b[0mappend\u001b[0m\u001b[0;34m(\u001b[0m\u001b[0mreward\u001b[0m\u001b[0;34m)\u001b[0m\u001b[0;34m\u001b[0m\u001b[0;34m\u001b[0m\u001b[0m\n\u001b[0;32m---> 28\u001b[0;31m       \u001b[0mstate_next\u001b[0m \u001b[0;34m=\u001b[0m \u001b[0mstateSpace\u001b[0m\u001b[0;34m.\u001b[0m\u001b[0mstateFromTick\u001b[0m\u001b[0;34m(\u001b[0m\u001b[0mgame\u001b[0m\u001b[0;34m.\u001b[0m\u001b[0mcar_id\u001b[0m\u001b[0;34m,\u001b[0m \u001b[0mgame\u001b[0m\u001b[0;34m.\u001b[0m\u001b[0mtick_data\u001b[0m\u001b[0;34m,\u001b[0m \u001b[0mgame\u001b[0m\u001b[0;34m.\u001b[0m\u001b[0mmapMatrix\u001b[0m\u001b[0;34m)\u001b[0m\u001b[0;34m\u001b[0m\u001b[0;34m\u001b[0m\u001b[0m\n\u001b[0m\u001b[1;32m     29\u001b[0m       \u001b[0magent\u001b[0m\u001b[0;34m.\u001b[0m\u001b[0mremember\u001b[0m\u001b[0;34m(\u001b[0m\u001b[0mstate\u001b[0m\u001b[0;34m,\u001b[0m \u001b[0mcommand\u001b[0m\u001b[0;34m,\u001b[0m \u001b[0mreward\u001b[0m\u001b[0;34m,\u001b[0m \u001b[0mstate_next\u001b[0m\u001b[0;34m,\u001b[0m \u001b[0mdone\u001b[0m\u001b[0;34m=\u001b[0m\u001b[0mgame\u001b[0m\u001b[0;34m.\u001b[0m\u001b[0mcrashed\u001b[0m\u001b[0;34m)\u001b[0m\u001b[0;34m\u001b[0m\u001b[0;34m\u001b[0m\u001b[0m\n\u001b[1;32m     30\u001b[0m     \u001b[0;32mif\u001b[0m \u001b[0mgame\u001b[0m\u001b[0;34m.\u001b[0m\u001b[0mstarted\u001b[0m\u001b[0;34m:\u001b[0m\u001b[0;34m\u001b[0m\u001b[0;34m\u001b[0m\u001b[0m\n",
      "\u001b[0;32m~/Documents/Munka/asseco/coding_cup_ai/state.py\u001b[0m in \u001b[0;36mstateFromTick\u001b[0;34m(self, myCarId, tickData, mapMatrix)\u001b[0m\n\u001b[1;32m    148\u001b[0m       \u001b[0mpasDestX\u001b[0m \u001b[0;34m=\u001b[0m \u001b[0;34m-\u001b[0m\u001b[0;36m1\u001b[0m \u001b[0;32mif\u001b[0m \u001b[0mpas\u001b[0m\u001b[0;34m[\u001b[0m\u001b[0;34m'status'\u001b[0m\u001b[0;34m]\u001b[0m\u001b[0;34m==\u001b[0m\u001b[0;32mFalse\u001b[0m \u001b[0;32melse\u001b[0m \u001b[0mpas\u001b[0m\u001b[0;34m[\u001b[0m\u001b[0;34m'pas'\u001b[0m\u001b[0;34m]\u001b[0m\u001b[0;34m[\u001b[0m\u001b[0;34m'dest_pos'\u001b[0m\u001b[0;34m]\u001b[0m\u001b[0;34m[\u001b[0m\u001b[0;34m'x'\u001b[0m\u001b[0;34m]\u001b[0m\u001b[0;34m\u001b[0m\u001b[0;34m\u001b[0m\u001b[0m\n\u001b[1;32m    149\u001b[0m       \u001b[0mpasDestY\u001b[0m \u001b[0;34m=\u001b[0m \u001b[0;34m-\u001b[0m\u001b[0;36m1\u001b[0m \u001b[0;32mif\u001b[0m \u001b[0mpas\u001b[0m\u001b[0;34m[\u001b[0m\u001b[0;34m'status'\u001b[0m\u001b[0;34m]\u001b[0m\u001b[0;34m==\u001b[0m\u001b[0;32mFalse\u001b[0m \u001b[0;32melse\u001b[0m \u001b[0mpas\u001b[0m\u001b[0;34m[\u001b[0m\u001b[0;34m'pas'\u001b[0m\u001b[0;34m]\u001b[0m\u001b[0;34m[\u001b[0m\u001b[0;34m'dest_pos'\u001b[0m\u001b[0;34m]\u001b[0m\u001b[0;34m[\u001b[0m\u001b[0;34m'y'\u001b[0m\u001b[0;34m]\u001b[0m\u001b[0;34m\u001b[0m\u001b[0;34m\u001b[0m\u001b[0m\n\u001b[0;32m--> 150\u001b[0;31m       \u001b[0mpasIsInMyCar\u001b[0m \u001b[0;34m=\u001b[0m \u001b[0;34m-\u001b[0m\u001b[0;36m1\u001b[0m \u001b[0;32mif\u001b[0m \u001b[0mpas\u001b[0m\u001b[0;34m[\u001b[0m\u001b[0;34m'status'\u001b[0m\u001b[0;34m]\u001b[0m\u001b[0;34m==\u001b[0m\u001b[0;32mFalse\u001b[0m \u001b[0;32melse\u001b[0m \u001b[0mint\u001b[0m\u001b[0;34m(\u001b[0m\u001b[0mself\u001b[0m\u001b[0;34m.\u001b[0m\u001b[0mmyCar\u001b[0m\u001b[0;34m[\u001b[0m\u001b[0;34m'id'\u001b[0m\u001b[0;34m]\u001b[0m\u001b[0;34m==\u001b[0m\u001b[0mpas\u001b[0m\u001b[0;34m[\u001b[0m\u001b[0;34m'pas'\u001b[0m\u001b[0;34m]\u001b[0m\u001b[0;34m[\u001b[0m\u001b[0;34m'car_id'\u001b[0m\u001b[0;34m]\u001b[0m\u001b[0;34m)\u001b[0m\u001b[0;34m\u001b[0m\u001b[0;34m\u001b[0m\u001b[0m\n\u001b[0m\u001b[1;32m    151\u001b[0m \u001b[0;34m\u001b[0m\u001b[0m\n\u001b[1;32m    152\u001b[0m       stateOfPoint = [\n",
      "\u001b[0;31mKeyError\u001b[0m: 'car_id'"
     ]
    }
   ],
   "source": [
    "game = train_agent(50)"
   ]
  },
  {
   "cell_type": "code",
   "execution_count": null,
   "metadata": {},
   "outputs": [],
   "source": [
    "game.close()"
   ]
  },
  {
   "cell_type": "code",
   "execution_count": null,
   "metadata": {},
   "outputs": [],
   "source": [
    "g = CCGame()\n",
    "\n",
    "for k in range(10):\n",
    "  g.start()\n",
    "  g.send_random_command()\n",
    "  g.close()"
   ]
  },
  {
   "cell_type": "code",
   "execution_count": null,
   "metadata": {
    "scrolled": true
   },
   "outputs": [],
   "source": [
    "## Test section\n",
    "g = CCGame(log_ticks=False)\n",
    "ss = StateSpace()\n",
    "rewarder = Rewarder()\n",
    "g.start()\n",
    "state = ss.stateFromTick(g.car_id, g.tick_data, g.mapMatrix)\n",
    "c=g.send_random_command()\n",
    "reward = rewarder.calculate_reward(g)\n",
    "g.close()\n",
    "\n",
    "print_t(\"Game id: {}\".format(g.game_id))\n",
    "print_t(\"command: {}\".format(c))\n",
    "print_t(\"reward: {}\".format(reward))"
   ]
  },
  {
   "cell_type": "code",
   "execution_count": null,
   "metadata": {},
   "outputs": [],
   "source": [
    "\"\"\" TODO: As a baseline project, go to a certain point without dying. Use networkx\n",
    "to find the shortest path to the point.\n",
    "\"\"\""
   ]
  }
 ],
 "metadata": {
  "kernelspec": {
   "display_name": "Python 3",
   "language": "python",
   "name": "python3"
  },
  "language_info": {
   "codemirror_mode": {
    "name": "ipython",
    "version": 3
   },
   "file_extension": ".py",
   "mimetype": "text/x-python",
   "name": "python",
   "nbconvert_exporter": "python",
   "pygments_lexer": "ipython3",
   "version": "3.6.7"
  }
 },
 "nbformat": 4,
 "nbformat_minor": 2
}
